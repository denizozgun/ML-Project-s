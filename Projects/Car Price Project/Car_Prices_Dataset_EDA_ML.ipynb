{
 "cells": [
  {
   "cell_type": "markdown",
   "id": "4a9f15d8",
   "metadata": {},
   "source": [
    "# Car Prices Dataset Keşifsel Veri Analizi (EDA) Ve Makine Öğrenmesi (ML)"
   ]
  },
  {
   "cell_type": "markdown",
   "id": "7a7b32c8",
   "metadata": {},
   "source": [
    "### Veri Seti Hakkında\n",
    "\n",
    "<p>\"Taşıt Satışları ve Pazar Trendleri Veri Seti\", çeşitli araçların satış işlemlerine ilişkin kapsamlı bir bilgi koleksiyonunu sağlar. Bu veri seti, yıl, marka, model, trim, gövde tipi, şanzıman tipi, VIN (Araç Tanımlama Numarası), kayıt durumu, koşul derecesi, kilometre okuması, dış ve iç renkler, satıcı bilgileri, Manheim Pazar Raporu (MMR) değerleri, satış fiyatları ve satış tarihleri gibi detayları içerir.</p><br>\n",
    "\n",
    "<div style=\"display: flex;\">\n",
    "    <img src=\"jpg/Car.jpg\" alt=\"Car\" style=\"width:450px;height:200px; margin-left: 10px;\">\n",
    "</div>\n",
    "\n",
    "Ana Özellikler:\n",
    "Araç Detayları: Her araçla ilgili özel bilgileri içerir, marka, model, trim ve imalat yılı gibi.\n",
    "\n",
    "İşlem Bilgileri: Satış işlemlerine dair içgörüler sağlar, satış fiyatları ve satış tarihlerini içerir.\n",
    "\n",
    "Pazar Trendleri: MMR değerleri, her aracın piyasa değerinin bir tahminini sunar, pazar trendlerini ve dalgalanmalarını analiz etmeyi sağlar.\n",
    "\n",
    "Durum ve Kilometre: Araçların durumu ile ilgili verileri ve kilometre okumalarını içerir, bu faktörlerin satış fiyatlarını nasıl etkilediğini analiz etmeyi sağlar."
   ]
  },
  {
   "cell_type": "markdown",
   "id": "4d27735d",
   "metadata": {},
   "source": [
    "<div style=\"color:navy;\">\n",
    "    <h5>Kütüphanelerin İmport Edilmesi ve Veri Setinin Yüklenmesi</h5>\n",
    "</div>\n"
   ]
  },
  {
   "cell_type": "code",
   "execution_count": 1,
   "id": "c40951e9",
   "metadata": {},
   "outputs": [],
   "source": [
    "import pandas as pd\n",
    "import numpy as np\n",
    "import matplotlib.pyplot as plt\n",
    "import seaborn as sns\n",
    "import warnings\n",
    "warnings.filterwarnings('ignore')"
   ]
  },
  {
   "cell_type": "code",
   "execution_count": 2,
   "id": "e0098d89",
   "metadata": {},
   "outputs": [],
   "source": [
    "df = pd.read_csv(\"car_prices.csv\")"
   ]
  },
  {
   "cell_type": "code",
   "execution_count": 3,
   "id": "8cc0d1c0",
   "metadata": {},
   "outputs": [
    {
     "data": {
      "text/html": [
       "<div>\n",
       "<style scoped>\n",
       "    .dataframe tbody tr th:only-of-type {\n",
       "        vertical-align: middle;\n",
       "    }\n",
       "\n",
       "    .dataframe tbody tr th {\n",
       "        vertical-align: top;\n",
       "    }\n",
       "\n",
       "    .dataframe thead th {\n",
       "        text-align: right;\n",
       "    }\n",
       "</style>\n",
       "<table border=\"1\" class=\"dataframe\">\n",
       "  <thead>\n",
       "    <tr style=\"text-align: right;\">\n",
       "      <th></th>\n",
       "      <th>year</th>\n",
       "      <th>make</th>\n",
       "      <th>model</th>\n",
       "      <th>trim</th>\n",
       "      <th>body</th>\n",
       "      <th>transmission</th>\n",
       "      <th>vin</th>\n",
       "      <th>state</th>\n",
       "      <th>condition</th>\n",
       "      <th>odometer</th>\n",
       "      <th>color</th>\n",
       "      <th>interior</th>\n",
       "      <th>seller</th>\n",
       "      <th>mmr</th>\n",
       "      <th>sellingprice</th>\n",
       "      <th>saledate</th>\n",
       "    </tr>\n",
       "  </thead>\n",
       "  <tbody>\n",
       "    <tr>\n",
       "      <th>0</th>\n",
       "      <td>2015</td>\n",
       "      <td>Kia</td>\n",
       "      <td>Sorento</td>\n",
       "      <td>LX</td>\n",
       "      <td>SUV</td>\n",
       "      <td>automatic</td>\n",
       "      <td>5xyktca69fg566472</td>\n",
       "      <td>ca</td>\n",
       "      <td>5.0</td>\n",
       "      <td>16639.0</td>\n",
       "      <td>white</td>\n",
       "      <td>black</td>\n",
       "      <td>kia motors america  inc</td>\n",
       "      <td>20500.0</td>\n",
       "      <td>21500.0</td>\n",
       "      <td>Tue Dec 16 2014 12:30:00 GMT-0800 (PST)</td>\n",
       "    </tr>\n",
       "    <tr>\n",
       "      <th>1</th>\n",
       "      <td>2015</td>\n",
       "      <td>Kia</td>\n",
       "      <td>Sorento</td>\n",
       "      <td>LX</td>\n",
       "      <td>SUV</td>\n",
       "      <td>automatic</td>\n",
       "      <td>5xyktca69fg561319</td>\n",
       "      <td>ca</td>\n",
       "      <td>5.0</td>\n",
       "      <td>9393.0</td>\n",
       "      <td>white</td>\n",
       "      <td>beige</td>\n",
       "      <td>kia motors america  inc</td>\n",
       "      <td>20800.0</td>\n",
       "      <td>21500.0</td>\n",
       "      <td>Tue Dec 16 2014 12:30:00 GMT-0800 (PST)</td>\n",
       "    </tr>\n",
       "    <tr>\n",
       "      <th>2</th>\n",
       "      <td>2014</td>\n",
       "      <td>BMW</td>\n",
       "      <td>3 Series</td>\n",
       "      <td>328i SULEV</td>\n",
       "      <td>Sedan</td>\n",
       "      <td>automatic</td>\n",
       "      <td>wba3c1c51ek116351</td>\n",
       "      <td>ca</td>\n",
       "      <td>45.0</td>\n",
       "      <td>1331.0</td>\n",
       "      <td>gray</td>\n",
       "      <td>black</td>\n",
       "      <td>financial services remarketing (lease)</td>\n",
       "      <td>31900.0</td>\n",
       "      <td>30000.0</td>\n",
       "      <td>Thu Jan 15 2015 04:30:00 GMT-0800 (PST)</td>\n",
       "    </tr>\n",
       "  </tbody>\n",
       "</table>\n",
       "</div>"
      ],
      "text/plain": [
       "   year make     model        trim   body transmission                vin  \\\n",
       "0  2015  Kia   Sorento          LX    SUV    automatic  5xyktca69fg566472   \n",
       "1  2015  Kia   Sorento          LX    SUV    automatic  5xyktca69fg561319   \n",
       "2  2014  BMW  3 Series  328i SULEV  Sedan    automatic  wba3c1c51ek116351   \n",
       "\n",
       "  state  condition  odometer  color interior  \\\n",
       "0    ca        5.0   16639.0  white    black   \n",
       "1    ca        5.0    9393.0  white    beige   \n",
       "2    ca       45.0    1331.0   gray    black   \n",
       "\n",
       "                                   seller      mmr  sellingprice  \\\n",
       "0                 kia motors america  inc  20500.0       21500.0   \n",
       "1                 kia motors america  inc  20800.0       21500.0   \n",
       "2  financial services remarketing (lease)  31900.0       30000.0   \n",
       "\n",
       "                                  saledate  \n",
       "0  Tue Dec 16 2014 12:30:00 GMT-0800 (PST)  \n",
       "1  Tue Dec 16 2014 12:30:00 GMT-0800 (PST)  \n",
       "2  Thu Jan 15 2015 04:30:00 GMT-0800 (PST)  "
      ]
     },
     "execution_count": 3,
     "metadata": {},
     "output_type": "execute_result"
    }
   ],
   "source": [
    "df.head(3)"
   ]
  },
  {
   "cell_type": "markdown",
   "id": "348205cd",
   "metadata": {},
   "source": [
    "\n",
    "\n",
    "<div style=\"color:navy;\">\n",
    "    <h5>Veri Setinin Temel Yapısı Hakkında Bilgi Edinilmesi</h5>\n",
    "</div>"
   ]
  },
  {
   "cell_type": "code",
   "execution_count": 4,
   "id": "ff33308b",
   "metadata": {},
   "outputs": [
    {
     "data": {
      "text/plain": [
       "(558837, 16)"
      ]
     },
     "execution_count": 4,
     "metadata": {},
     "output_type": "execute_result"
    }
   ],
   "source": [
    "# 558837 Satır - 16 Sütun\n",
    "df.shape"
   ]
  },
  {
   "cell_type": "code",
   "execution_count": 5,
   "id": "0bc0d60d",
   "metadata": {},
   "outputs": [
    {
     "name": "stdout",
     "output_type": "stream",
     "text": [
      "<class 'pandas.core.frame.DataFrame'>\n",
      "RangeIndex: 558837 entries, 0 to 558836\n",
      "Data columns (total 16 columns):\n",
      " #   Column        Non-Null Count   Dtype  \n",
      "---  ------        --------------   -----  \n",
      " 0   year          558837 non-null  int64  \n",
      " 1   make          548536 non-null  object \n",
      " 2   model         548438 non-null  object \n",
      " 3   trim          548186 non-null  object \n",
      " 4   body          545642 non-null  object \n",
      " 5   transmission  493485 non-null  object \n",
      " 6   vin           558833 non-null  object \n",
      " 7   state         558837 non-null  object \n",
      " 8   condition     547017 non-null  float64\n",
      " 9   odometer      558743 non-null  float64\n",
      " 10  color         558088 non-null  object \n",
      " 11  interior      558088 non-null  object \n",
      " 12  seller        558837 non-null  object \n",
      " 13  mmr           558799 non-null  float64\n",
      " 14  sellingprice  558825 non-null  float64\n",
      " 15  saledate      558825 non-null  object \n",
      "dtypes: float64(4), int64(1), object(11)\n",
      "memory usage: 68.2+ MB\n"
     ]
    }
   ],
   "source": [
    "# 558837 Entries\n",
    "# Data Types\n",
    "df.info()"
   ]
  },
  {
   "cell_type": "code",
   "execution_count": 6,
   "id": "ae5fe91c",
   "metadata": {},
   "outputs": [
    {
     "data": {
      "text/html": [
       "<div>\n",
       "<style scoped>\n",
       "    .dataframe tbody tr th:only-of-type {\n",
       "        vertical-align: middle;\n",
       "    }\n",
       "\n",
       "    .dataframe tbody tr th {\n",
       "        vertical-align: top;\n",
       "    }\n",
       "\n",
       "    .dataframe thead th {\n",
       "        text-align: right;\n",
       "    }\n",
       "</style>\n",
       "<table border=\"1\" class=\"dataframe\">\n",
       "  <thead>\n",
       "    <tr style=\"text-align: right;\">\n",
       "      <th></th>\n",
       "      <th>count</th>\n",
       "      <th>mean</th>\n",
       "      <th>std</th>\n",
       "      <th>min</th>\n",
       "      <th>25%</th>\n",
       "      <th>50%</th>\n",
       "      <th>75%</th>\n",
       "      <th>max</th>\n",
       "    </tr>\n",
       "  </thead>\n",
       "  <tbody>\n",
       "    <tr>\n",
       "      <th>year</th>\n",
       "      <td>558837.0</td>\n",
       "      <td>2010.038927</td>\n",
       "      <td>3.966864</td>\n",
       "      <td>1982.0</td>\n",
       "      <td>2007.0</td>\n",
       "      <td>2012.0</td>\n",
       "      <td>2013.0</td>\n",
       "      <td>2015.0</td>\n",
       "    </tr>\n",
       "    <tr>\n",
       "      <th>condition</th>\n",
       "      <td>547017.0</td>\n",
       "      <td>30.672365</td>\n",
       "      <td>13.402832</td>\n",
       "      <td>1.0</td>\n",
       "      <td>23.0</td>\n",
       "      <td>35.0</td>\n",
       "      <td>42.0</td>\n",
       "      <td>49.0</td>\n",
       "    </tr>\n",
       "    <tr>\n",
       "      <th>odometer</th>\n",
       "      <td>558743.0</td>\n",
       "      <td>68320.017767</td>\n",
       "      <td>53398.542821</td>\n",
       "      <td>1.0</td>\n",
       "      <td>28371.0</td>\n",
       "      <td>52254.0</td>\n",
       "      <td>99109.0</td>\n",
       "      <td>999999.0</td>\n",
       "    </tr>\n",
       "    <tr>\n",
       "      <th>mmr</th>\n",
       "      <td>558799.0</td>\n",
       "      <td>13769.377495</td>\n",
       "      <td>9679.967174</td>\n",
       "      <td>25.0</td>\n",
       "      <td>7100.0</td>\n",
       "      <td>12250.0</td>\n",
       "      <td>18300.0</td>\n",
       "      <td>182000.0</td>\n",
       "    </tr>\n",
       "    <tr>\n",
       "      <th>sellingprice</th>\n",
       "      <td>558825.0</td>\n",
       "      <td>13611.358810</td>\n",
       "      <td>9749.501628</td>\n",
       "      <td>1.0</td>\n",
       "      <td>6900.0</td>\n",
       "      <td>12100.0</td>\n",
       "      <td>18200.0</td>\n",
       "      <td>230000.0</td>\n",
       "    </tr>\n",
       "  </tbody>\n",
       "</table>\n",
       "</div>"
      ],
      "text/plain": [
       "                 count          mean           std     min      25%      50%  \\\n",
       "year          558837.0   2010.038927      3.966864  1982.0   2007.0   2012.0   \n",
       "condition     547017.0     30.672365     13.402832     1.0     23.0     35.0   \n",
       "odometer      558743.0  68320.017767  53398.542821     1.0  28371.0  52254.0   \n",
       "mmr           558799.0  13769.377495   9679.967174    25.0   7100.0  12250.0   \n",
       "sellingprice  558825.0  13611.358810   9749.501628     1.0   6900.0  12100.0   \n",
       "\n",
       "                  75%       max  \n",
       "year           2013.0    2015.0  \n",
       "condition        42.0      49.0  \n",
       "odometer      99109.0  999999.0  \n",
       "mmr           18300.0  182000.0  \n",
       "sellingprice  18200.0  230000.0  "
      ]
     },
     "execution_count": 6,
     "metadata": {},
     "output_type": "execute_result"
    }
   ],
   "source": [
    "# İstatistiksel Bilgiler \n",
    "# T = Transpozunu almamızı sağlar\n",
    "df.describe().T"
   ]
  },
  {
   "cell_type": "code",
   "execution_count": 7,
   "id": "978de999",
   "metadata": {},
   "outputs": [
    {
     "data": {
      "text/plain": [
       "year                34\n",
       "make                96\n",
       "model              973\n",
       "trim              1963\n",
       "body                87\n",
       "transmission         4\n",
       "vin             550297\n",
       "state               64\n",
       "condition           41\n",
       "odometer        172278\n",
       "color               46\n",
       "interior            17\n",
       "seller           14263\n",
       "mmr               1101\n",
       "sellingprice      1887\n",
       "saledate          3766\n",
       "dtype: int64"
      ]
     },
     "execution_count": 7,
     "metadata": {},
     "output_type": "execute_result"
    }
   ],
   "source": [
    "# Unique Değer Sayıları\n",
    "df.nunique()"
   ]
  },
  {
   "cell_type": "markdown",
   "id": "9b3086fb",
   "metadata": {},
   "source": [
    "\n",
    "\n",
    "<div style=\"color:navy;\">\n",
    "    <h5>Data Preprocessing İşlemleri</h5>\n",
    "</div>"
   ]
  },
  {
   "cell_type": "code",
   "execution_count": 8,
   "id": "a156c57e",
   "metadata": {},
   "outputs": [
    {
     "data": {
      "text/plain": [
       "year                0\n",
       "make            10301\n",
       "model           10399\n",
       "trim            10651\n",
       "body            13195\n",
       "transmission    65352\n",
       "vin                 4\n",
       "state               0\n",
       "condition       11820\n",
       "odometer           94\n",
       "color             749\n",
       "interior          749\n",
       "seller              0\n",
       "mmr                38\n",
       "sellingprice       12\n",
       "saledate           12\n",
       "dtype: int64"
      ]
     },
     "execution_count": 8,
     "metadata": {},
     "output_type": "execute_result"
    }
   ],
   "source": [
    "# Missing Values\n",
    "df.isna().sum()"
   ]
  },
  {
   "cell_type": "code",
   "execution_count": 9,
   "id": "9795f356",
   "metadata": {},
   "outputs": [
    {
     "data": {
      "text/plain": [
       "year              int64\n",
       "make             object\n",
       "model            object\n",
       "trim             object\n",
       "body             object\n",
       "transmission     object\n",
       "vin              object\n",
       "state            object\n",
       "condition       float64\n",
       "odometer        float64\n",
       "color            object\n",
       "interior         object\n",
       "seller           object\n",
       "mmr             float64\n",
       "sellingprice    float64\n",
       "saledate         object\n",
       "dtype: object"
      ]
     },
     "execution_count": 9,
     "metadata": {},
     "output_type": "execute_result"
    }
   ],
   "source": [
    "# Veri Tipleri'nin Öğrenilmesi\n",
    "df.dtypes"
   ]
  },
  {
   "cell_type": "code",
   "execution_count": 10,
   "id": "e929748b",
   "metadata": {},
   "outputs": [],
   "source": [
    "# EDA Öncesi Gereksiz Olan Bu Sütunu Sil\n",
    "df.drop(\"vin\", axis = 1, inplace=True)"
   ]
  },
  {
   "cell_type": "code",
   "execution_count": 11,
   "id": "e5ccde4c",
   "metadata": {},
   "outputs": [],
   "source": [
    "# EDA Öncesi Missing Values'ların oldurulması\n",
    "# condition, odometer, mmr, sellingprice Gibi Collumnlarda Bulunan Missing Valuesların Mean Değerleriyle Doldurulması\n",
    "df[\"condition\"].fillna(df[\"condition\"].mean(),inplace=True)\n",
    "df[\"odometer\"].fillna(df[\"odometer\"].mean(),inplace=True)\n",
    "df[\"mmr\"].fillna(df[\"mmr\"].mean(),inplace=True)\n",
    "df[\"sellingprice\"].fillna(df[\"sellingprice\"].mean(),inplace=True)"
   ]
  },
  {
   "cell_type": "code",
   "execution_count": 12,
   "id": "a16702cd",
   "metadata": {},
   "outputs": [
    {
     "data": {
      "text/plain": [
       "year                0\n",
       "make            10301\n",
       "model           10399\n",
       "trim            10651\n",
       "body            13195\n",
       "transmission    65352\n",
       "state               0\n",
       "condition           0\n",
       "odometer            0\n",
       "color             749\n",
       "interior          749\n",
       "seller              0\n",
       "mmr                 0\n",
       "sellingprice        0\n",
       "saledate           12\n",
       "dtype: int64"
      ]
     },
     "execution_count": 12,
     "metadata": {},
     "output_type": "execute_result"
    }
   ],
   "source": [
    "# Check-1\n",
    "df.isna().sum()"
   ]
  },
  {
   "cell_type": "code",
   "execution_count": 13,
   "id": "059ba4d1",
   "metadata": {},
   "outputs": [],
   "source": [
    "# EDA Öncesi Missing Values'ların Doldurulması\n",
    "# color, saledate, interior, transmission, body, trim Gibi Değerler İçin mean Değeri Kullanamayız (Anlamsız Olur.) \n",
    "# En Çok Tekrar Edeni Yani \"Mod\" Değerini Kullanırız.\n",
    "df[\"color\"].fillna(df[\"color\"].mode()[0],inplace=True)\n",
    "df[\"saledate\"].fillna(df[\"saledate\"].mode()[0],inplace=True)\n",
    "df[\"interior\"].fillna(df[\"interior\"].mode()[0],inplace=True)\n",
    "df[\"transmission\"].fillna(df[\"transmission\"].mode()[0],inplace=True)\n",
    "df[\"body\"].fillna(df[\"body\"].mode()[0],inplace=True)\n",
    "df[\"trim\"].fillna(df[\"trim\"].mode()[0],inplace=True)"
   ]
  },
  {
   "cell_type": "code",
   "execution_count": 14,
   "id": "386b0695",
   "metadata": {},
   "outputs": [
    {
     "data": {
      "text/plain": [
       "year                0\n",
       "make            10301\n",
       "model           10399\n",
       "trim                0\n",
       "body                0\n",
       "transmission        0\n",
       "state               0\n",
       "condition           0\n",
       "odometer            0\n",
       "color               0\n",
       "interior            0\n",
       "seller              0\n",
       "mmr                 0\n",
       "sellingprice        0\n",
       "saledate            0\n",
       "dtype: int64"
      ]
     },
     "execution_count": 14,
     "metadata": {},
     "output_type": "execute_result"
    }
   ],
   "source": [
    "# Check-2\n",
    "df.isna().sum()"
   ]
  },
  {
   "cell_type": "code",
   "execution_count": 15,
   "id": "dd8dc062",
   "metadata": {},
   "outputs": [
    {
     "data": {
      "text/plain": [
       "array(['Kia', 'BMW', 'Volvo', 'Nissan', 'Chevrolet', 'Audi', 'Ford',\n",
       "       'Hyundai', 'Buick', 'Cadillac', 'Acura', 'Lexus', 'Infiniti',\n",
       "       'Jeep', 'Mercedes-Benz', 'Mitsubishi', 'Mazda', 'MINI',\n",
       "       'Land Rover', 'Lincoln', 'lincoln', 'Jaguar', 'Volkswagen',\n",
       "       'Toyota', 'Subaru', 'Scion', 'Porsche', nan, 'bmw', 'Dodge',\n",
       "       'FIAT', 'Chrysler', 'ford', 'Ferrari', 'Honda', 'GMC',\n",
       "       'mitsubishi', 'Ram', 'smart', 'chevrolet', 'Bentley', 'chrysler',\n",
       "       'pontiac', 'Pontiac', 'Saturn', 'Maserati', 'Mercury', 'HUMMER',\n",
       "       'landrover', 'cadillac', 'land rover', 'mercedes', 'mazda',\n",
       "       'toyota', 'lexus', 'gmc truck', 'honda', 'nissan', 'porsche',\n",
       "       'Saab', 'Suzuki', 'dodge', 'subaru', 'Oldsmobile', 'oldsmobile',\n",
       "       'hyundai', 'jeep', 'Isuzu', 'dodge tk', 'Geo', 'acura',\n",
       "       'volkswagen', 'suzuki', 'kia', 'audi', 'Rolls-Royce', 'gmc',\n",
       "       'maserati', 'mazda tk', 'mercury', 'buick', 'hyundai tk',\n",
       "       'mercedes-b', 'vw', 'Daewoo', 'chev truck', 'ford tk', 'plymouth',\n",
       "       'Plymouth', 'ford truck', 'Tesla', 'airstream', 'dot',\n",
       "       'Aston Martin', 'Fisker', 'Lamborghini', 'Lotus'], dtype=object)"
      ]
     },
     "execution_count": 15,
     "metadata": {},
     "output_type": "execute_result"
    }
   ],
   "source": [
    "# make = 10301 missing values\n",
    "# model = 10399 missing values\n",
    "df[\"make\"].unique()"
   ]
  },
  {
   "cell_type": "code",
   "execution_count": 16,
   "id": "6e80826d",
   "metadata": {},
   "outputs": [
    {
     "data": {
      "text/plain": [
       "array(['Sorento', '3 Series', 'S60', '6 Series Gran Coupe', 'Altima',\n",
       "       'M5', 'Cruze', 'A4', 'Camaro', 'A6', 'Optima', 'Fusion', 'Sonata',\n",
       "       'Q5', '6 Series', 'Impala', '5 Series', 'A3', 'XC70', 'X5', 'SQ5',\n",
       "       'S5', 'Verano', 'Suburban', 'ELR', 'V60', 'X6', 'ILX', 'K900',\n",
       "       'Malibu', 'RX 350', 'Versa', 'Elantra', 'Versa Note', 'A8', 'X1',\n",
       "       nan, 'Enclave', 'TTS', '4 Series', 'Silverado 2500HD', 'MDX',\n",
       "       'Silverado 1500', 'SRX', 'G Coupe', 'G Sedan', 'FX', 'Santa Fe',\n",
       "       'Genesis', 'Equus', 'Sonata Hybrid', 'Accent', 'Veloster',\n",
       "       'Elantra Coupe', 'Azera', 'Tucson', 'Genesis Coupe', 'Wrangler',\n",
       "       'S-Class', 'GS 350', 'Outlander', 'C-Class', 'Mazda2', 'Rio', 'M',\n",
       "       '370Z', 'Soul', 'Outlander Sport', 'SLK-Class', 'ES 350',\n",
       "       'E-Class', 'Mazda3', 'Cooper Clubman', 'Cooper', 'CX-9', 'Forte',\n",
       "       'Compass', 'JX', 'RX 450h', 'LR4', 'Mazda5', 'Range Rover Evoque',\n",
       "       'LS 460', 'GLK-Class', 'Sportage', 'Grand Cherokee', 'MKX', 'mkt',\n",
       "       'XF', 'GL-Class', 'M-Class', 'Cooper Countryman', 'Lancer',\n",
       "       'Range Rover Sport', 'Passat', 'Corolla', 'XC60', 'Sienna', 'Juke',\n",
       "       'Yaris', 'Sentra', 'Rogue', 'NV', 'CC', 'Leaf', 'Camry', 'Tacoma',\n",
       "       'Jetta', 'Impreza WRX', 'FJ Cruiser', 'Beetle', 'Avalon', 'FR-S',\n",
       "       'NV200', 'RAV4', 'Quest', 'Tundra', 'tC', 'Maxima', 'Cayenne',\n",
       "       '911', 'Xterra', 'Prius', 'S80', 'Frontier', 'Boxster',\n",
       "       'Camry Hybrid', 'xB', 'Cube', 'Jetta SportWagen', '4Runner',\n",
       "       'Sequoia', 'Legacy', 'Armada', 'Venza', 'Murano', 'Pathfinder',\n",
       "       'Panamera', 'Forester', 'Highlander', 'Impreza', '750i', 'TSX',\n",
       "       '7 Series', '1 Series', 'TL', '750li', 'S4', 'A7', 'A5', 'RDX',\n",
       "       'M3', 'Cooper Coupe', 'ZDX', 'R8', 'X3', 'Avenger',\n",
       "       'E-Series Wagon', 'Escape', 'Edge', 'Focus', 'Flex', 'Z4',\n",
       "       'Traverse', 'F-350 Super Duty', 'Fiesta', '500', '200', 'Journey',\n",
       "       'Charger', 'e350', 'Equinox', '300', 'F-150', 'Explorer',\n",
       "       'Captiva Sport', 'Escalade', 'Grand Caravan', 'CTS Coupe',\n",
       "       'Town and Country', 'E-Series Van', 'Volt', 'Express Cargo',\n",
       "       'e150', 'X5 M', 'Expedition', 'Colorado', 'Express', 'California',\n",
       "       'Escalade ESV', 'Sonic', 'Accord', 'CR-V', 'Mustang', 'Civic',\n",
       "       'Fit', 'Pilot', 'Odyssey', 'Crosstour', 'Transit Connect',\n",
       "       'Terrain', 'Taurus', 'G Convertible', 'Yukon', 'Veracruz', 'XJ',\n",
       "       'Liberty', 'IS 250', 'XK', 'QX', 'CT 200h', 'Mazda6', 'MKZ',\n",
       "       'Navigator', 'Range Rover', 'SL-Class', 'Sedona', 'IS 350',\n",
       "       'Patriot', 'galant', '1500', 'GT-R', '2500', 'Galant', 'fortwo',\n",
       "       'GLI', '5 Series Gran Turismo', 'XC90', 'Tiguan', 'GTI', 'Q7',\n",
       "       'Highlander Hybrid', 'Prius Plug-in', 'CR-Z', 'EX', 'Sierra 1500',\n",
       "       'LaCrosse', 'HHR', 'Accord Crosstour', 'CTS', 'Nitro', 'Tahoe',\n",
       "       'Challenger', 'CTS-V', 'Escape Hybrid', 'X6 M', 'Ranger',\n",
       "       'Insight', 'Fusion Hybrid', 'CTS-V Coupe', 'F-250 Super Duty',\n",
       "       'Acadia', 'Impala Limited', 'Dart', 'Spark', 'M37', 'Sprinter',\n",
       "       'Town Car', 'CLS-Class', 'CX-7', 'MKT', 'QX56', 'Aveo', 'Outback',\n",
       "       'Caliber', 'Routan', 'g1500', 'Sebring', 'Corvette',\n",
       "       'Continental GT Speed', 'malibu', 'Land Cruiser', 'town', 'V50',\n",
       "       'Commander', 'Altima Hybrid', 'G37 Convertible', 'g6',\n",
       "       'New Beetle', 'Golf', 'LR2', 'Lancer Sportback', 'G5', 'Yukon XL',\n",
       "       'Escalade Hybrid', 'Avalanche', 'Titan', 'Spectra', 'Rondo',\n",
       "       'Borrego', 'G-Class', 'MKS', 'CLK-Class', 'Tahoe Hybrid',\n",
       "       'Econoline Cargo', 'Econoline Wagon', 'PT Cruiser', 'STS',\n",
       "       'Ridgeline', 'F-450 Super Duty', 'Magnum', 'Durango', 'S40',\n",
       "       'Malibu Classic', 'TT', 'Taurus X', 'Explorer Sport Trac',\n",
       "       'Ram Pickup 1500', 'impala', 'Cobalt', 'Pacifica', 'S6', 'Rabbit',\n",
       "       'C70', 'Sierra 2500HD', 'C30', 'VUE', 'GranTurismo', 'G6',\n",
       "       'Grand Prix', '350Z', 'Raider', 'Mazdaspeed Mazda3', 'Solstice',\n",
       "       'Milan', 'GX 470', 'Aura', 'RX 400h', 'Matrix', 'H3', 'CL-Class',\n",
       "       'Outlook', '7', 'G37', 'IS F', 'Touareg 2', 'Lancer Evolution',\n",
       "       'G35', 'xD', 'XJ-Series', 'G8', 'hhr', 'H2', 'DTS', 'lr3', 'sts',\n",
       "       'Silverado 1500 Classic', 'M45', 'Uplander', 'GS 450h', 'corvette',\n",
       "       'rangerover', 'Rendezvous', 'Monte Carlo', 'FX35', 'range', 'ION',\n",
       "       'R-Class', 'lancer', 'Eclipse', 'c230wz', 'cx-7', 'B9 Tribeca',\n",
       "       'matrix', 'tundra', 'RSX', 'mazda5', 'Mariner', 'gx',\n",
       "       'Five Hundred', 'Envoy XL', 'S-Type', 'Element',\n",
       "       'Continental Flying Spur', 'S2000', 'FX45', 'sr', 'pilot',\n",
       "       'GS 430', 'Cayman S', 'Mark LT', 'ES 330', 'GS 300', '350z',\n",
       "       'Camry Solara', 'rx8', 'Touareg', 'Relay', 'lx', 'allroad quattro',\n",
       "       '9-3', '500L', 'C-Max Hybrid', 'pacifica', 'Freestyle',\n",
       "       'Ram Pickup 3500', 'Sprinter Cargo', 'DeVille', 'H2 SUT',\n",
       "       'TrailBlazer', 'Canyon', 'srx', 'Dakota', 'Continental GT', 'Neon',\n",
       "       'Stratus', 'Q45', 'Freestar', 'Montana', 'Grand Marquis', 'XLR',\n",
       "       'Aviator', 'g55', 'MPV', 'LS 430', 'Verona', 'Forenza', 'RX 330',\n",
       "       '300M', 'SC 430', 'discovery', 'Excursion', 'Envoy XUV', 'Envoy',\n",
       "       'Concorde', 'Monterey', 'stratus', 'Mountaineer', 'Amanti',\n",
       "       'Malibu Maxx', 'Celica', 'Grand Am', 'Endeavor', 'Marauder',\n",
       "       'escape', 'QX4', 'LS', 'Blazer', 'Ram Pickup 2500', 'LeSabre',\n",
       "       'V40', 'Mazdaspeed Protege', 'Montero', 'ES 300', 'focus',\n",
       "       'Thunderbird', 'Century', 'Cavalier', 'Venture', 'S-10', 's55',\n",
       "       'Cougar', 'XL-7', 'Windstar', 'Silverado 1500HD', 'Explorer Sport',\n",
       "       'Savana Cargo', 'X-Type', 'Sonoma', 'IS 300', 'forester',\n",
       "       'Protege5', 'sprinter', 'RL', 'Alero', 'Grand Vitara', 'RX 300',\n",
       "       'L-Series', 'V70', 'Intrigue', 'XC', 'Discovery Series II',\n",
       "       'S-Series', 'alero', 'santa', 'ECHO', 'MX-5 Miata', 'Continental',\n",
       "       'Seville', 'camry', 'Park Avenue', 'Millenia', 'I30', 'gr',\n",
       "       'sienna', 'camaro', 'Cherokee', 'Z3', 'civic', 'ram', 'odyssey',\n",
       "       'taurus', 'expedition', 'Prizm', 'Escort', 's10', 'LHS',\n",
       "       'windstar', 'f250', 'Regal', 'explorer', 'G20', 'Bonneville',\n",
       "       'Eldorado', 'voyager', 'venture', 'durango', 'Intrepid', 'Contour',\n",
       "       'S90', 'Sunfire', 'mpv', 'caravan', '200SX', 'Rodeo', 'wrangler',\n",
       "       'f150', 'Tercel', 'S70', 'Discovery', 'Mustang SVT Cobra', '300e',\n",
       "       'pickup', 'ciera', 'Legend', 'LS 400', 'Cutlass Ciera',\n",
       "       'Santa Fe Sport', 'Cadenza', 'Q50', 'Elantra GT', 'F-TYPE',\n",
       "       'Shelby GT500', 'QX70', 'QX60', 'Q60 Convertible',\n",
       "       'Cooper Roadster', 'CX-5', 'Cooper Paceman', 'Rogue Select',\n",
       "       'Cayman', 'CLA-Class', 'allroad', 'ATS', 'Prius v',\n",
       "       'Continental GTC', 'XV Crosstrek', '3500', 'C-Max Energi',\n",
       "       'Focus ST', 'RS 7', 'GX 460', 'CTS Wagon', 'SLS AMG', 'Aspen',\n",
       "       'Eclipse Spyder', 'Vibe', 'Eos', 'Entourage', 'expeditn', 'rl',\n",
       "       'Caravan', 'Quattroporte', 'M35', '9-5', 'SSR', 'Astro Cargo',\n",
       "       'Safari Cargo', 'passat', 'Tribute', 'Diamante', 'Sable',\n",
       "       'Silverado 3500', 'Phaeton', 'R32', 'I35', 'g500', 'Bravada',\n",
       "       'Tahoe Limited/Z71', 'Truck', 'C/K 1500 Series', 'grand', 'SC 300',\n",
       "       'Roadmaster', 'SC 400', '420sel', 'LX 570', 'QX80', 'RS 5',\n",
       "       'Jetta GLI', 'ES 300h', 'capt', 'M4', 'SX4', 'iQ', 'Kizashi',\n",
       "       'C/V Cargo Van', 'Prius c', '750lxi', 'alp', 'Lucerne',\n",
       "       'Escalade EXT', 'Silverado 3500HD', 'Crown Victoria',\n",
       "       'Sierra 3500HD', 'M56', 'rio', 'IS 250 C', '3', 'endeavor',\n",
       "       'corolla', 'jetta', 'ActiveHybrid X6', 'a4', 'dts', 'g3500',\n",
       "       'colorado', 'sebring', 'e250', 'police', 'Elantra Touring',\n",
       "       'G37 Coupe', 'HS 250h', 'journey', 'Mazdaspeed3', 'Milan Hybrid',\n",
       "       'Ghost', 'Silverado 1500 Hybrid', 'crown', 'Yukon Hybrid',\n",
       "       'elantra', 'optima', 'borrego', 'mazda6', '6', 'Mariner Hybrid',\n",
       "       'montana', 'Torrent', 'VUE Hybrid', 'G3', '9-7X', 'vibe',\n",
       "       'Expedition EL', 'Tiburon', 'patriot', 'LR3', 'Navigator L',\n",
       "       'Astra', 'Tribeca', 'XL7', 'sx4', 'Sky', 'Reno', 'M6', 'S8',\n",
       "       'Terraza', 'Silverado 2500HD Classic', 'uplander', 'ram3500',\n",
       "       'Sierra 1500 Classic', 'Sierra 2500HD Classic', 'Fusion Energi',\n",
       "       'XK-Series', 'quattroporte', 'B-Series Truck', 'mazda3', 'b200',\n",
       "       'Mazdaspeed Mazda6', 'Montego', 'g5', 'yaris', 'Rainier',\n",
       "       'TrailBlazer EXT', 'optra', 'Crossfire', 'magnum', 'savana',\n",
       "       'Sierra 1500HD', 'ridgelin', 'Savana', 'Zephyr', 'rrs', 'tribute',\n",
       "       'carrera', 'Montana SV6', 'wave', 'tt', 'Classic', 'pt',\n",
       "       'freestyle', 'Ascender', 'XG350', 'Q60 Coupe', 'Q70', 'QX50',\n",
       "       'pursuit', 'x-trail', 'GTO', 'xA', 'L300', 'Baja', '9-2X', 'Aerio',\n",
       "       'el', 'rainier', 'Silverado 2500', 'Astro', 'Tracker', 'intrepid',\n",
       "       'F-150 Heritage', 'expedit', 'accord', 'Freelander', 'c240w',\n",
       "       'MR2 Spyder', 'RS 6', '320i', 'Voyager', 'Axiom', 'cl55',\n",
       "       'Montero Sport', 'sl55', 'Protege', 'Silhouette', 'b1500',\n",
       "       'concorde', '626', 'Blackwood', 'Rodeo Sport', 'LX 470',\n",
       "       'Villager', 'Firebird', 'Aztek', 'Aurora', 'CL', 'EuroVan',\n",
       "       'Catera', 'Leganza', 'XG300', 'Prelude', 'Trooper', 'Prowler',\n",
       "       'Cabrio', 'Integra', 'cavalier', 'astro', 'excurs', 'dakota',\n",
       "       'Cirrus', 'twn&country', 'Jimmy', 'safari', 'ranger', 'sonoma',\n",
       "       'Sierra 2500', 'yukon', 'Sephia', 'Passport', 'Mirage', 'breeze',\n",
       "       'silhouette', 'villager', 'beetle', 'suburban', 'Lumina', 'Amigo',\n",
       "       'mountaineer', 'Esteem', 'pathfinder', 'quest', 'Breeze', 'e300dt',\n",
       "       'intrigue', 'lumina', 'Cabriolet', 'envoy', 'Cutlass', 'GS 400',\n",
       "       'E-150', 'Regency', 'thunderbird', 'B-Series Pickup', 'legacy',\n",
       "       'corsica', 'bronco', 'Le Baron', 'Caprice', 'Pickup', 'century',\n",
       "       '500-Class', '300-Class', 'previa', 'Murano CrossCabriolet',\n",
       "       'NV Cargo', 'Jetta Hybrid', 'S7', 'Encore', 'XTS',\n",
       "       'Black Diamond Avalanche', 'RLX', '2 Series', 'M6 Gran Coupe',\n",
       "       'regal', 'versa', 'BRZ', 'C/V Tradesman', 'Model S',\n",
       "       'Beetle Convertible', 'Golf R', 'routan', 'TSX Sport Wagon',\n",
       "       'interstate', 'a6', 'Corvette Stingray', 'SS', 'Mazdaspeed 3',\n",
       "       'i-MiEV', 'F430', 'EX35', 'swift', 'GranSport', 'escalade', 'neon',\n",
       "       'f350', 'Yukon Denali', 'Ghibli', '960', 'Cutlass Supreme',\n",
       "       'cougar', 'IS 350 C', 'lacrosse', 'tucson', '323i', 'cobalt', 'x3',\n",
       "       'Mazdaspeed MX-5 Miata', 'Ram Cargo', 'Safari', 'Eighty-Eight',\n",
       "       '850', 'J30', 'Promaster Cargo Van', 'sonic', 'rr', '1',\n",
       "       'Malibu Hybrid', '350', 'twn/cntry', 'Spirit', 'Accord Hybrid',\n",
       "       '3 Series Gran Turismo', 'e', 'cruze', 'c230', 'crossfire',\n",
       "       'Viper', 'Riviera', 'compass', 'Avalon Hybrid', 'RX-8',\n",
       "       'V8 Vantage', 'Equator', 'sportage', 'C/K 3500 Series',\n",
       "       'Mark VIII', 'charger', 'GranTurismo Convertible', 'avenger',\n",
       "       'equinox', 'allure', 'c240s', 'Vitara', 'avalon', 'eurovan',\n",
       "       'siera', 'pathfind', 'Eighty-Eight Royale', 'cherokee',\n",
       "       'ActiveHybrid 7', 'aveo', 'GS 460', 'Tribute Hybrid',\n",
       "       'Aura Hybrid', 'tahoe', 'g2500', '300ZX', 'Golf GTI', 'i-Series',\n",
       "       'golf', 'MKZ Hybrid', 'Macan', 'FX50', 'comm', 'STS-V',\n",
       "       'Windstar Cargo', 'CTS-V Wagon', 'Karma', '328i', 'Z4 M', '42c',\n",
       "       'subrbn', 'b2300', 'mountnr', 'Coupe', 'uplandr', 'Ram Van',\n",
       "       'Tempo', 'Tracer', 'CV Tradesman', 'DB9', 'C/K 2500 Series', 'i8',\n",
       "       'Rapide', 'Nubira', 'Corsica', 'NV Passenger', 'Spyder',\n",
       "       'LS 600h L', '400-Class', 'H3T', 'LX 450', 'WRX',\n",
       "       'Silverado 3500 Classic', '500e', 'Continental Supersports',\n",
       "       'Sierra 3500', 'Mystique', 'F-150 SVT Lightning', '190-Class',\n",
       "       'MKC', 'Aspire', '940', 'Gallardo',\n",
       "       'Continental Flying Spur Speed', '3000GT', 'TT RS', 'B-Series',\n",
       "       'ActiveHybrid 5', 'Sierra 1500 Hybrid', 'ML55 AMG', 'S-10 Blazer',\n",
       "       'RS 4', 'T100', 'Continental GTC Speed', 'mdx', 'Transit Van',\n",
       "       'F-250', 'Sidekick', 'E-250', '8 Series', '420-Class', 'E-350',\n",
       "       'Achieva', 'B-Class Electric Drive', 'Fleetwood', 'Paseo',\n",
       "       'Civic del Sol', 'Exige', 'X4', 'Spark EV', 'Transit Wagon', 'H1',\n",
       "       'SLS AMG GT', 'Flying Spur', 'Metro', 'Grand Cherokee SRT', 'RC F',\n",
       "       'Q3', '4 Series Gran Coupe', 'RC 350', '360', 'GLA-Class', 'TLX',\n",
       "       '458 Italia'], dtype=object)"
      ]
     },
     "execution_count": 16,
     "metadata": {},
     "output_type": "execute_result"
    }
   ],
   "source": [
    "df[\"model\"].unique()"
   ]
  },
  {
   "cell_type": "markdown",
   "id": "ed3bc6bc",
   "metadata": {},
   "source": [
    "\n",
    "\n",
    "<div style=\"color:navy;\">\n",
    "    <h5>Some Plot's</h5>\n",
    "</div>"
   ]
  },
  {
   "cell_type": "code",
   "execution_count": 17,
   "id": "a33308a4",
   "metadata": {},
   "outputs": [
    {
     "data": {
      "text/plain": [
       "make\n",
       "Ford         93554\n",
       "Chevrolet    60197\n",
       "Nissan       53946\n",
       "Toyota       39871\n",
       "Dodge        30710\n",
       "Honda        27206\n",
       "Hyundai      21816\n",
       "BMW          20719\n",
       "Kia          18077\n",
       "Chrysler     17276\n",
       "Name: year, dtype: int64"
      ]
     },
     "execution_count": 17,
     "metadata": {},
     "output_type": "execute_result"
    }
   ],
   "source": [
    "# En Çok Satılan Araç Markaları\n",
    "most = df.groupby(\"make\")[\"year\"].count().nlargest(10)\n",
    "most"
   ]
  },
  {
   "cell_type": "code",
   "execution_count": 18,
   "id": "0e841865",
   "metadata": {},
   "outputs": [
    {
     "data": {
      "image/png": "[encoded data removed]",
      "text/plain": [
       "<Figure size 1000x600 with 1 Axes>"
      ]
     },
     "metadata": {},
     "output_type": "display_data"
    }
   ],
   "source": [
    "plt.figure(figsize=(10, 6))\n",
    "sns.barplot(x=most.index, y=most.values, palette='deep')\n",
    "plt.xlabel('Marka')\n",
    "plt.ylabel('Adet')\n",
    "plt.title('En Çok Satılan Araç Markaları')\n",
    "plt.xticks(rotation=45, ha='right')\n",
    "plt.tight_layout()"
   ]
  },
  {
   "cell_type": "code",
   "execution_count": 19,
   "id": "a09071a8",
   "metadata": {},
   "outputs": [
    {
     "data": {
      "text/html": [
       "<div>\n",
       "<style scoped>\n",
       "    .dataframe tbody tr th:only-of-type {\n",
       "        vertical-align: middle;\n",
       "    }\n",
       "\n",
       "    .dataframe tbody tr th {\n",
       "        vertical-align: top;\n",
       "    }\n",
       "\n",
       "    .dataframe thead th {\n",
       "        text-align: right;\n",
       "    }\n",
       "</style>\n",
       "<table border=\"1\" class=\"dataframe\">\n",
       "  <thead>\n",
       "    <tr style=\"text-align: right;\">\n",
       "      <th></th>\n",
       "      <th>make</th>\n",
       "      <th>model</th>\n",
       "      <th>body</th>\n",
       "    </tr>\n",
       "  </thead>\n",
       "  <tbody>\n",
       "    <tr>\n",
       "      <th>0</th>\n",
       "      <td>Nissan</td>\n",
       "      <td>Altima</td>\n",
       "      <td>19349</td>\n",
       "    </tr>\n",
       "    <tr>\n",
       "      <th>1</th>\n",
       "      <td>Ford</td>\n",
       "      <td>F-150</td>\n",
       "      <td>14479</td>\n",
       "    </tr>\n",
       "    <tr>\n",
       "      <th>3</th>\n",
       "      <td>Toyota</td>\n",
       "      <td>Camry</td>\n",
       "      <td>12545</td>\n",
       "    </tr>\n",
       "    <tr>\n",
       "      <th>6</th>\n",
       "      <td>Honda</td>\n",
       "      <td>Accord</td>\n",
       "      <td>9127</td>\n",
       "    </tr>\n",
       "    <tr>\n",
       "      <th>7</th>\n",
       "      <td>BMW</td>\n",
       "      <td>3 Series</td>\n",
       "      <td>8204</td>\n",
       "    </tr>\n",
       "    <tr>\n",
       "      <th>8</th>\n",
       "      <td>Dodge</td>\n",
       "      <td>Grand Caravan</td>\n",
       "      <td>7941</td>\n",
       "    </tr>\n",
       "    <tr>\n",
       "      <th>9</th>\n",
       "      <td>Chevrolet</td>\n",
       "      <td>Impala</td>\n",
       "      <td>7923</td>\n",
       "    </tr>\n",
       "    <tr>\n",
       "      <th>12</th>\n",
       "      <td>Infiniti</td>\n",
       "      <td>G Sedan</td>\n",
       "      <td>7417</td>\n",
       "    </tr>\n",
       "  </tbody>\n",
       "</table>\n",
       "</div>"
      ],
      "text/plain": [
       "         make          model   body\n",
       "0      Nissan         Altima  19349\n",
       "1        Ford          F-150  14479\n",
       "3      Toyota          Camry  12545\n",
       "6       Honda         Accord   9127\n",
       "7         BMW       3 Series   8204\n",
       "8       Dodge  Grand Caravan   7941\n",
       "9   Chevrolet         Impala   7923\n",
       "12   Infiniti        G Sedan   7417"
      ]
     },
     "execution_count": 19,
     "metadata": {},
     "output_type": "execute_result"
    }
   ],
   "source": [
    "# En Çok Satılan Modeller\n",
    "most_Sell = df.groupby([\"make\",'model'])[\"body\"].count().nlargest(13).reset_index().drop_duplicates(['make'])\n",
    "most_Sell"
   ]
  },
  {
   "cell_type": "code",
   "execution_count": 20,
   "id": "ef55f2d1",
   "metadata": {},
   "outputs": [
    {
     "data": {
      "image/png": "[encoded data removed]",
      "text/plain": [
       "<Figure size 1000x600 with 1 Axes>"
      ]
     },
     "metadata": {},
     "output_type": "display_data"
    }
   ],
   "source": [
    "plt.figure(figsize=(10, 6))\n",
    "sns.barplot(x='model', y='body', hue='make', data=most_Sell, palette='deep')\n",
    "plt.xlabel('Model')\n",
    "plt.ylabel('Adet')\n",
    "plt.title('Her Markanın En Çok Satan Modeli')\n",
    "plt.xticks(rotation=45, ha='right')\n",
    "plt.tight_layout()\n",
    "plt.show()"
   ]
  },
  {
   "cell_type": "markdown",
   "id": "869e2fa1",
   "metadata": {},
   "source": [
    "\n",
    "\n",
    "<div style=\"color:navy;\">\n",
    "    <h5>Basit Makine Öğrenmesi Uygulaması</h5>\n",
    "</div>"
   ]
  },
  {
   "cell_type": "code",
   "execution_count": 21,
   "id": "7b346116",
   "metadata": {},
   "outputs": [
    {
     "data": {
      "text/plain": [
       "Index(['year', 'condition', 'odometer', 'mmr', 'sellingprice'], dtype='object')"
      ]
     },
     "execution_count": 21,
     "metadata": {},
     "output_type": "execute_result"
    }
   ],
   "source": [
    "numerical_columns = df.select_dtypes(include=[\"int64\", \"float64\"]).columns\n",
    "numerical_columns"
   ]
  },
  {
   "cell_type": "code",
   "execution_count": 22,
   "id": "205f93cb",
   "metadata": {},
   "outputs": [],
   "source": [
    "df = df[numerical_columns]"
   ]
  },
  {
   "cell_type": "code",
   "execution_count": 23,
   "id": "d678e466",
   "metadata": {},
   "outputs": [
    {
     "name": "stdout",
     "output_type": "stream",
     "text": [
      "<class 'pandas.core.frame.DataFrame'>\n",
      "RangeIndex: 558837 entries, 0 to 558836\n",
      "Data columns (total 5 columns):\n",
      " #   Column        Non-Null Count   Dtype  \n",
      "---  ------        --------------   -----  \n",
      " 0   year          558837 non-null  int64  \n",
      " 1   condition     558837 non-null  float64\n",
      " 2   odometer      558837 non-null  float64\n",
      " 3   mmr           558837 non-null  float64\n",
      " 4   sellingprice  558837 non-null  float64\n",
      "dtypes: float64(4), int64(1)\n",
      "memory usage: 21.3 MB\n"
     ]
    }
   ],
   "source": [
    "df.info()"
   ]
  },
  {
   "cell_type": "code",
   "execution_count": 24,
   "id": "9254f632",
   "metadata": {},
   "outputs": [
    {
     "data": {
      "text/html": [
       "<div>\n",
       "<style scoped>\n",
       "    .dataframe tbody tr th:only-of-type {\n",
       "        vertical-align: middle;\n",
       "    }\n",
       "\n",
       "    .dataframe tbody tr th {\n",
       "        vertical-align: top;\n",
       "    }\n",
       "\n",
       "    .dataframe thead th {\n",
       "        text-align: right;\n",
       "    }\n",
       "</style>\n",
       "<table border=\"1\" class=\"dataframe\">\n",
       "  <thead>\n",
       "    <tr style=\"text-align: right;\">\n",
       "      <th></th>\n",
       "      <th>year</th>\n",
       "      <th>condition</th>\n",
       "      <th>odometer</th>\n",
       "      <th>mmr</th>\n",
       "      <th>sellingprice</th>\n",
       "    </tr>\n",
       "  </thead>\n",
       "  <tbody>\n",
       "    <tr>\n",
       "      <th>0</th>\n",
       "      <td>2015</td>\n",
       "      <td>5.0</td>\n",
       "      <td>16639.0</td>\n",
       "      <td>20500.0</td>\n",
       "      <td>21500.0</td>\n",
       "    </tr>\n",
       "    <tr>\n",
       "      <th>1</th>\n",
       "      <td>2015</td>\n",
       "      <td>5.0</td>\n",
       "      <td>9393.0</td>\n",
       "      <td>20800.0</td>\n",
       "      <td>21500.0</td>\n",
       "    </tr>\n",
       "    <tr>\n",
       "      <th>2</th>\n",
       "      <td>2014</td>\n",
       "      <td>45.0</td>\n",
       "      <td>1331.0</td>\n",
       "      <td>31900.0</td>\n",
       "      <td>30000.0</td>\n",
       "    </tr>\n",
       "    <tr>\n",
       "      <th>3</th>\n",
       "      <td>2015</td>\n",
       "      <td>41.0</td>\n",
       "      <td>14282.0</td>\n",
       "      <td>27500.0</td>\n",
       "      <td>27750.0</td>\n",
       "    </tr>\n",
       "    <tr>\n",
       "      <th>4</th>\n",
       "      <td>2014</td>\n",
       "      <td>43.0</td>\n",
       "      <td>2641.0</td>\n",
       "      <td>66000.0</td>\n",
       "      <td>67000.0</td>\n",
       "    </tr>\n",
       "  </tbody>\n",
       "</table>\n",
       "</div>"
      ],
      "text/plain": [
       "   year  condition  odometer      mmr  sellingprice\n",
       "0  2015        5.0   16639.0  20500.0       21500.0\n",
       "1  2015        5.0    9393.0  20800.0       21500.0\n",
       "2  2014       45.0    1331.0  31900.0       30000.0\n",
       "3  2015       41.0   14282.0  27500.0       27750.0\n",
       "4  2014       43.0    2641.0  66000.0       67000.0"
      ]
     },
     "execution_count": 24,
     "metadata": {},
     "output_type": "execute_result"
    }
   ],
   "source": [
    "df.head()"
   ]
  },
  {
   "cell_type": "code",
   "execution_count": 25,
   "id": "f9b6f3da",
   "metadata": {},
   "outputs": [
    {
     "data": {
      "text/plain": [
       "year            0\n",
       "condition       0\n",
       "odometer        0\n",
       "mmr             0\n",
       "sellingprice    0\n",
       "dtype: int64"
      ]
     },
     "execution_count": 25,
     "metadata": {},
     "output_type": "execute_result"
    }
   ],
   "source": [
    "df.isnull().sum()"
   ]
  },
  {
   "cell_type": "code",
   "execution_count": 26,
   "id": "194f7355",
   "metadata": {},
   "outputs": [],
   "source": [
    "from sklearn.model_selection import train_test_split\n",
    "\n",
    "df_train, df_test = train_test_split(df, test_size=0.2, random_state=42)\n",
    "\n",
    "y_train = df_train[\"sellingprice\"]\n",
    "X_train = df_train.drop(\"sellingprice\", axis = 1)\n",
    "\n",
    "y_test = df_test[\"sellingprice\"]\n",
    "X_test = df_test.drop(\"sellingprice\", axis = 1)"
   ]
  },
  {
   "cell_type": "code",
   "execution_count": 27,
   "id": "e77e4f42",
   "metadata": {},
   "outputs": [],
   "source": [
    "from sklearn.preprocessing import StandardScaler\n",
    "\n",
    "scaler = StandardScaler()\n",
    "\n",
    "X_train[X_train.columns] = scaler.fit_transform(X_train)\n",
    "X_test[X_test.columns] = scaler.transform(X_test)"
   ]
  },
  {
   "cell_type": "markdown",
   "id": "ae2a66ed",
   "metadata": {},
   "source": [
    "## Multiple - Lineer Regresyon"
   ]
  },
  {
   "cell_type": "code",
   "execution_count": 28,
   "id": "e7d4cede",
   "metadata": {},
   "outputs": [],
   "source": [
    "from sklearn.linear_model import LinearRegression\n",
    "from sklearn.metrics import mean_squared_error"
   ]
  },
  {
   "cell_type": "code",
   "execution_count": 29,
   "id": "cec2ddec",
   "metadata": {},
   "outputs": [
    {
     "data": {
      "text/html": [
       "<style>#sk-container-id-1 {color: black;}#sk-container-id-1 pre{padding: 0;}#sk-container-id-1 div.sk-toggleable {background-color: white;}#sk-container-id-1 label.sk-toggleable__label {cursor: pointer;display: block;width: 100%;margin-bottom: 0;padding: 0.3em;box-sizing: border-box;text-align: center;}#sk-container-id-1 label.sk-toggleable__label-arrow:before {content: \"▸\";float: left;margin-right: 0.25em;color: #696969;}#sk-container-id-1 label.sk-toggleable__label-arrow:hover:before {color: black;}#sk-container-id-1 div.sk-estimator:hover label.sk-toggleable__label-arrow:before {color: black;}#sk-container-id-1 div.sk-toggleable__content {max-height: 0;max-width: 0;overflow: hidden;text-align: left;background-color: #f0f8ff;}#sk-container-id-1 div.sk-toggleable__content pre {margin: 0.2em;color: black;border-radius: 0.25em;background-color: #f0f8ff;}#sk-container-id-1 input.sk-toggleable__control:checked~div.sk-toggleable__content {max-height: 200px;max-width: 100%;overflow: auto;}#sk-container-id-1 input.sk-toggleable__control:checked~label.sk-toggleable__label-arrow:before {content: \"▾\";}#sk-container-id-1 div.sk-estimator input.sk-toggleable__control:checked~label.sk-toggleable__label {background-color: #d4ebff;}#sk-container-id-1 div.sk-label input.sk-toggleable__control:checked~label.sk-toggleable__label {background-color: #d4ebff;}#sk-container-id-1 input.sk-hidden--visually {border: 0;clip: rect(1px 1px 1px 1px);clip: rect(1px, 1px, 1px, 1px);height: 1px;margin: -1px;overflow: hidden;padding: 0;position: absolute;width: 1px;}#sk-container-id-1 div.sk-estimator {font-family: monospace;background-color: #f0f8ff;border: 1px dotted black;border-radius: 0.25em;box-sizing: border-box;margin-bottom: 0.5em;}#sk-container-id-1 div.sk-estimator:hover {background-color: #d4ebff;}#sk-container-id-1 div.sk-parallel-item::after {content: \"\";width: 100%;border-bottom: 1px solid gray;flex-grow: 1;}#sk-container-id-1 div.sk-label:hover label.sk-toggleable__label {background-color: #d4ebff;}#sk-container-id-1 div.sk-serial::before {content: \"\";position: absolute;border-left: 1px solid gray;box-sizing: border-box;top: 0;bottom: 0;left: 50%;z-index: 0;}#sk-container-id-1 div.sk-serial {display: flex;flex-direction: column;align-items: center;background-color: white;padding-right: 0.2em;padding-left: 0.2em;position: relative;}#sk-container-id-1 div.sk-item {position: relative;z-index: 1;}#sk-container-id-1 div.sk-parallel {display: flex;align-items: stretch;justify-content: center;background-color: white;position: relative;}#sk-container-id-1 div.sk-item::before, #sk-container-id-1 div.sk-parallel-item::before {content: \"\";position: absolute;border-left: 1px solid gray;box-sizing: border-box;top: 0;bottom: 0;left: 50%;z-index: -1;}#sk-container-id-1 div.sk-parallel-item {display: flex;flex-direction: column;z-index: 1;position: relative;background-color: white;}#sk-container-id-1 div.sk-parallel-item:first-child::after {align-self: flex-end;width: 50%;}#sk-container-id-1 div.sk-parallel-item:last-child::after {align-self: flex-start;width: 50%;}#sk-container-id-1 div.sk-parallel-item:only-child::after {width: 0;}#sk-container-id-1 div.sk-dashed-wrapped {border: 1px dashed gray;margin: 0 0.4em 0.5em 0.4em;box-sizing: border-box;padding-bottom: 0.4em;background-color: white;}#sk-container-id-1 div.sk-label label {font-family: monospace;font-weight: bold;display: inline-block;line-height: 1.2em;}#sk-container-id-1 div.sk-label-container {text-align: center;}#sk-container-id-1 div.sk-container {/* jupyter's `normalize.less` sets `[hidden] { display: none; }` but bootstrap.min.css set `[hidden] { display: none !important; }` so we also need the `!important` here to be able to override the default hidden behavior on the sphinx rendered scikit-learn.org. See: https://github.com/scikit-learn/scikit-learn/issues/21755 */display: inline-block !important;position: relative;}#sk-container-id-1 div.sk-text-repr-fallback {display: none;}</style><div id=\"sk-container-id-1\" class=\"sk-top-container\"><div class=\"sk-text-repr-fallback\"><pre>LinearRegression()</pre><b>In a Jupyter environment, please rerun this cell to show the HTML representation or trust the notebook. <br />On GitHub, the HTML representation is unable to render, please try loading this page with nbviewer.org.</b></div><div class=\"sk-container\" hidden><div class=\"sk-item\"><div class=\"sk-estimator sk-toggleable\"><input class=\"sk-toggleable__control sk-hidden--visually\" id=\"sk-estimator-id-1\" type=\"checkbox\" checked><label for=\"sk-estimator-id-1\" class=\"sk-toggleable__label sk-toggleable__label-arrow\">LinearRegression</label><div class=\"sk-toggleable__content\"><pre>LinearRegression()</pre></div></div></div></div></div>"
      ],
      "text/plain": [
       "LinearRegression()"
      ]
     },
     "execution_count": 29,
     "metadata": {},
     "output_type": "execute_result"
    }
   ],
   "source": [
    "model_LR = LinearRegression()\n",
    "model_LR.fit(X_train, y_train)"
   ]
  },
  {
   "cell_type": "code",
   "execution_count": 30,
   "id": "3f2ecfdb",
   "metadata": {},
   "outputs": [
    {
     "data": {
      "text/plain": [
       "array([12184.01390241,  6294.65260949,  7578.43280164, ...,\n",
       "       14295.59701041, 27115.88470866,  8790.59404707])"
      ]
     },
     "execution_count": 30,
     "metadata": {},
     "output_type": "execute_result"
    }
   ],
   "source": [
    "y_pred = model_LR.predict(X_test)\n",
    "y_pred"
   ]
  },
  {
   "cell_type": "code",
   "execution_count": 31,
   "id": "c5110155",
   "metadata": {},
   "outputs": [
    {
     "name": "stdout",
     "output_type": "stream",
     "text": [
      "Mean Squared Error: 27.214487074349307\n"
     ]
    }
   ],
   "source": [
    "mse = mean_squared_error(y_test, y_pred)\n",
    "print('Mean Squared Error: {0}'.format(mse*(1/100000)))"
   ]
  }
 ],
 "metadata": {
  "kernelspec": {
   "display_name": "Python 3 (ipykernel)",
   "language": "python",
   "name": "python3"
  },
  "language_info": {
   "codemirror_mode": {
    "name": "ipython",
    "version": 3
   },
   "file_extension": ".py",
   "mimetype": "text/x-python",
   "name": "python",
   "nbconvert_exporter": "python",
   "pygments_lexer": "ipython3",
   "version": "3.10.13"
  }
 },
 "nbformat": 4,
 "nbformat_minor": 5
}
