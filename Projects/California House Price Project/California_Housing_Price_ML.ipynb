{
 "cells": [
  {
   "cell_type": "markdown",
   "id": "96388cde",
   "metadata": {},
   "source": [
    "# California Housing Price Basic Makine Öğrenmesi (ML) Uygulaması "
   ]
  },
  {
   "cell_type": "markdown",
   "id": "3f85b35d",
   "metadata": {},
   "source": [
    "### Veri Seti Hakkında\n",
    "\n",
    "<p>Bu veri seti, Aurélien Géron'un son kitabı \"Hands-On Machine learning with Scikit-Learn and TensorFlow\"un ikinci bölümünde kullanılan veri setidir. Makine öğrenimi algoritmalarını uygulamanın mükemmel bir girişini sağlar çünkü basit veri temizliği gerektirir, anlaşılması kolay değişken listesine sahiptir.\n",
    "\n",
    "Veri seti, 1990 California nüfus sayımından bilgiler içerir. Makine öğrenimi temelleri hakkında insanlara öğretim için erişilebilir bir giriş verir.\n",
    "\n",
    "\n",
    "\n",
    "\n",
    "\n",
    "</p><br>\n",
    "\n",
    "<div style=\"display: flex;\">\n",
    "    <img src=\"jpg/california.jpg\" alt=\"California\" style=\"width:450px;height:200px; margin-left: 10px;\">\n",
    "</div>\n",
    "\n",
    "Açıklayıcı:\n",
    "\n",
    "longitude: Konutun boylamı (derece cinsinden)\n",
    "\n",
    "latitude: Konutun enlemi (derece cinsinden)\n",
    "\n",
    "housing_median_age: Konutların medyan yaşı\n",
    "\n",
    "total_rooms: Toplam oda sayısı\n",
    "\n",
    "total_bedrooms: Toplam yatak odası sayısı\n",
    "\n",
    "population: Nüfus\n",
    "\n",
    "households: Hanehalkı sayısı\n",
    "\n",
    "median_income: Medyan gelir\n",
    "\n",
    "median_house_value: Konutların medyan değeri\n",
    "\n",
    "ocean_proximity: Okyanus yakınlığı (kategorik değişken)"
   ]
  },
  {
   "cell_type": "code",
   "execution_count": 1,
   "id": "120730d4",
   "metadata": {},
   "outputs": [],
   "source": [
    "import pandas as pd\n",
    "import numpy as np\n",
    "import seaborn as sns\n",
    "import matplotlib.pyplot as plt\n",
    "import warnings\n",
    "warnings.filterwarnings(\"ignore\", category=UserWarning)"
   ]
  },
  {
   "cell_type": "code",
   "execution_count": 2,
   "id": "839f3587",
   "metadata": {},
   "outputs": [],
   "source": [
    "df = pd.read_csv(\"housing.csv\")"
   ]
  },
  {
   "cell_type": "code",
   "execution_count": 3,
   "id": "d27d110d",
   "metadata": {
    "scrolled": false
   },
   "outputs": [
    {
     "data": {
      "text/html": [
       "<div>\n",
       "<style scoped>\n",
       "    .dataframe tbody tr th:only-of-type {\n",
       "        vertical-align: middle;\n",
       "    }\n",
       "\n",
       "    .dataframe tbody tr th {\n",
       "        vertical-align: top;\n",
       "    }\n",
       "\n",
       "    .dataframe thead th {\n",
       "        text-align: right;\n",
       "    }\n",
       "</style>\n",
       "<table border=\"1\" class=\"dataframe\">\n",
       "  <thead>\n",
       "    <tr style=\"text-align: right;\">\n",
       "      <th></th>\n",
       "      <th>longitude</th>\n",
       "      <th>latitude</th>\n",
       "      <th>housing_median_age</th>\n",
       "      <th>total_rooms</th>\n",
       "      <th>total_bedrooms</th>\n",
       "      <th>population</th>\n",
       "      <th>households</th>\n",
       "      <th>median_income</th>\n",
       "      <th>median_house_value</th>\n",
       "      <th>ocean_proximity</th>\n",
       "    </tr>\n",
       "  </thead>\n",
       "  <tbody>\n",
       "    <tr>\n",
       "      <th>0</th>\n",
       "      <td>-122.23</td>\n",
       "      <td>37.88</td>\n",
       "      <td>41.0</td>\n",
       "      <td>880.0</td>\n",
       "      <td>129.0</td>\n",
       "      <td>322.0</td>\n",
       "      <td>126.0</td>\n",
       "      <td>8.3252</td>\n",
       "      <td>452600.0</td>\n",
       "      <td>NEAR BAY</td>\n",
       "    </tr>\n",
       "    <tr>\n",
       "      <th>1</th>\n",
       "      <td>-122.22</td>\n",
       "      <td>37.86</td>\n",
       "      <td>21.0</td>\n",
       "      <td>7099.0</td>\n",
       "      <td>1106.0</td>\n",
       "      <td>2401.0</td>\n",
       "      <td>1138.0</td>\n",
       "      <td>8.3014</td>\n",
       "      <td>358500.0</td>\n",
       "      <td>NEAR BAY</td>\n",
       "    </tr>\n",
       "    <tr>\n",
       "      <th>2</th>\n",
       "      <td>-122.24</td>\n",
       "      <td>37.85</td>\n",
       "      <td>52.0</td>\n",
       "      <td>1467.0</td>\n",
       "      <td>190.0</td>\n",
       "      <td>496.0</td>\n",
       "      <td>177.0</td>\n",
       "      <td>7.2574</td>\n",
       "      <td>352100.0</td>\n",
       "      <td>NEAR BAY</td>\n",
       "    </tr>\n",
       "    <tr>\n",
       "      <th>3</th>\n",
       "      <td>-122.25</td>\n",
       "      <td>37.85</td>\n",
       "      <td>52.0</td>\n",
       "      <td>1274.0</td>\n",
       "      <td>235.0</td>\n",
       "      <td>558.0</td>\n",
       "      <td>219.0</td>\n",
       "      <td>5.6431</td>\n",
       "      <td>341300.0</td>\n",
       "      <td>NEAR BAY</td>\n",
       "    </tr>\n",
       "    <tr>\n",
       "      <th>4</th>\n",
       "      <td>-122.25</td>\n",
       "      <td>37.85</td>\n",
       "      <td>52.0</td>\n",
       "      <td>1627.0</td>\n",
       "      <td>280.0</td>\n",
       "      <td>565.0</td>\n",
       "      <td>259.0</td>\n",
       "      <td>3.8462</td>\n",
       "      <td>342200.0</td>\n",
       "      <td>NEAR BAY</td>\n",
       "    </tr>\n",
       "  </tbody>\n",
       "</table>\n",
       "</div>"
      ],
      "text/plain": [
       "   longitude  latitude  housing_median_age  total_rooms  total_bedrooms  \\\n",
       "0    -122.23     37.88                41.0        880.0           129.0   \n",
       "1    -122.22     37.86                21.0       7099.0          1106.0   \n",
       "2    -122.24     37.85                52.0       1467.0           190.0   \n",
       "3    -122.25     37.85                52.0       1274.0           235.0   \n",
       "4    -122.25     37.85                52.0       1627.0           280.0   \n",
       "\n",
       "   population  households  median_income  median_house_value ocean_proximity  \n",
       "0       322.0       126.0         8.3252            452600.0        NEAR BAY  \n",
       "1      2401.0      1138.0         8.3014            358500.0        NEAR BAY  \n",
       "2       496.0       177.0         7.2574            352100.0        NEAR BAY  \n",
       "3       558.0       219.0         5.6431            341300.0        NEAR BAY  \n",
       "4       565.0       259.0         3.8462            342200.0        NEAR BAY  "
      ]
     },
     "execution_count": 3,
     "metadata": {},
     "output_type": "execute_result"
    }
   ],
   "source": [
    "df.head(5)"
   ]
  },
  {
   "cell_type": "code",
   "execution_count": 4,
   "id": "33081eb6",
   "metadata": {},
   "outputs": [
    {
     "data": {
      "text/plain": [
       "(20640, 10)"
      ]
     },
     "execution_count": 4,
     "metadata": {},
     "output_type": "execute_result"
    }
   ],
   "source": [
    "df.shape"
   ]
  },
  {
   "cell_type": "code",
   "execution_count": 5,
   "id": "9090e059",
   "metadata": {},
   "outputs": [
    {
     "data": {
      "text/plain": [
       "Index(['longitude', 'latitude', 'housing_median_age', 'total_rooms',\n",
       "       'total_bedrooms', 'population', 'households', 'median_income',\n",
       "       'median_house_value', 'ocean_proximity'],\n",
       "      dtype='object')"
      ]
     },
     "execution_count": 5,
     "metadata": {},
     "output_type": "execute_result"
    }
   ],
   "source": [
    "df.columns"
   ]
  },
  {
   "cell_type": "code",
   "execution_count": 6,
   "id": "c84562bf",
   "metadata": {},
   "outputs": [],
   "source": [
    "df.columns = [\"boy\", \"en\", \"konut_yasi\", \"toplam_oda_sayi\", \"toplam_yatak_oda_sayi\", \n",
    "              \"nufus\", \"hane_sayisi\", \"ortalama_gelir\", \"ortalama_ev_fiyati\", \"okyanus_yakinlik\"]"
   ]
  },
  {
   "cell_type": "code",
   "execution_count": 7,
   "id": "9df1ca63",
   "metadata": {},
   "outputs": [
    {
     "data": {
      "text/html": [
       "<div>\n",
       "<style scoped>\n",
       "    .dataframe tbody tr th:only-of-type {\n",
       "        vertical-align: middle;\n",
       "    }\n",
       "\n",
       "    .dataframe tbody tr th {\n",
       "        vertical-align: top;\n",
       "    }\n",
       "\n",
       "    .dataframe thead th {\n",
       "        text-align: right;\n",
       "    }\n",
       "</style>\n",
       "<table border=\"1\" class=\"dataframe\">\n",
       "  <thead>\n",
       "    <tr style=\"text-align: right;\">\n",
       "      <th></th>\n",
       "      <th>boy</th>\n",
       "      <th>en</th>\n",
       "      <th>konut_yasi</th>\n",
       "      <th>toplam_oda_sayi</th>\n",
       "      <th>toplam_yatak_oda_sayi</th>\n",
       "      <th>nufus</th>\n",
       "      <th>hane_sayisi</th>\n",
       "      <th>ortalama_gelir</th>\n",
       "      <th>ortalama_ev_fiyati</th>\n",
       "      <th>okyanus_yakinlik</th>\n",
       "    </tr>\n",
       "  </thead>\n",
       "  <tbody>\n",
       "    <tr>\n",
       "      <th>0</th>\n",
       "      <td>-122.23</td>\n",
       "      <td>37.88</td>\n",
       "      <td>41.0</td>\n",
       "      <td>880.0</td>\n",
       "      <td>129.0</td>\n",
       "      <td>322.0</td>\n",
       "      <td>126.0</td>\n",
       "      <td>8.3252</td>\n",
       "      <td>452600.0</td>\n",
       "      <td>NEAR BAY</td>\n",
       "    </tr>\n",
       "    <tr>\n",
       "      <th>1</th>\n",
       "      <td>-122.22</td>\n",
       "      <td>37.86</td>\n",
       "      <td>21.0</td>\n",
       "      <td>7099.0</td>\n",
       "      <td>1106.0</td>\n",
       "      <td>2401.0</td>\n",
       "      <td>1138.0</td>\n",
       "      <td>8.3014</td>\n",
       "      <td>358500.0</td>\n",
       "      <td>NEAR BAY</td>\n",
       "    </tr>\n",
       "    <tr>\n",
       "      <th>2</th>\n",
       "      <td>-122.24</td>\n",
       "      <td>37.85</td>\n",
       "      <td>52.0</td>\n",
       "      <td>1467.0</td>\n",
       "      <td>190.0</td>\n",
       "      <td>496.0</td>\n",
       "      <td>177.0</td>\n",
       "      <td>7.2574</td>\n",
       "      <td>352100.0</td>\n",
       "      <td>NEAR BAY</td>\n",
       "    </tr>\n",
       "    <tr>\n",
       "      <th>3</th>\n",
       "      <td>-122.25</td>\n",
       "      <td>37.85</td>\n",
       "      <td>52.0</td>\n",
       "      <td>1274.0</td>\n",
       "      <td>235.0</td>\n",
       "      <td>558.0</td>\n",
       "      <td>219.0</td>\n",
       "      <td>5.6431</td>\n",
       "      <td>341300.0</td>\n",
       "      <td>NEAR BAY</td>\n",
       "    </tr>\n",
       "    <tr>\n",
       "      <th>4</th>\n",
       "      <td>-122.25</td>\n",
       "      <td>37.85</td>\n",
       "      <td>52.0</td>\n",
       "      <td>1627.0</td>\n",
       "      <td>280.0</td>\n",
       "      <td>565.0</td>\n",
       "      <td>259.0</td>\n",
       "      <td>3.8462</td>\n",
       "      <td>342200.0</td>\n",
       "      <td>NEAR BAY</td>\n",
       "    </tr>\n",
       "  </tbody>\n",
       "</table>\n",
       "</div>"
      ],
      "text/plain": [
       "      boy     en  konut_yasi  toplam_oda_sayi  toplam_yatak_oda_sayi   nufus  \\\n",
       "0 -122.23  37.88        41.0            880.0                  129.0   322.0   \n",
       "1 -122.22  37.86        21.0           7099.0                 1106.0  2401.0   \n",
       "2 -122.24  37.85        52.0           1467.0                  190.0   496.0   \n",
       "3 -122.25  37.85        52.0           1274.0                  235.0   558.0   \n",
       "4 -122.25  37.85        52.0           1627.0                  280.0   565.0   \n",
       "\n",
       "   hane_sayisi  ortalama_gelir  ortalama_ev_fiyati okyanus_yakinlik  \n",
       "0        126.0          8.3252            452600.0         NEAR BAY  \n",
       "1       1138.0          8.3014            358500.0         NEAR BAY  \n",
       "2        177.0          7.2574            352100.0         NEAR BAY  \n",
       "3        219.0          5.6431            341300.0         NEAR BAY  \n",
       "4        259.0          3.8462            342200.0         NEAR BAY  "
      ]
     },
     "execution_count": 7,
     "metadata": {},
     "output_type": "execute_result"
    }
   ],
   "source": [
    "df.head(5)"
   ]
  },
  {
   "cell_type": "code",
   "execution_count": 8,
   "id": "4520bff4",
   "metadata": {},
   "outputs": [
    {
     "name": "stdout",
     "output_type": "stream",
     "text": [
      "<class 'pandas.core.frame.DataFrame'>\n",
      "RangeIndex: 20640 entries, 0 to 20639\n",
      "Data columns (total 10 columns):\n",
      " #   Column                 Non-Null Count  Dtype  \n",
      "---  ------                 --------------  -----  \n",
      " 0   boy                    20640 non-null  float64\n",
      " 1   en                     20640 non-null  float64\n",
      " 2   konut_yasi             20640 non-null  float64\n",
      " 3   toplam_oda_sayi        20640 non-null  float64\n",
      " 4   toplam_yatak_oda_sayi  20433 non-null  float64\n",
      " 5   nufus                  20640 non-null  float64\n",
      " 6   hane_sayisi            20640 non-null  float64\n",
      " 7   ortalama_gelir         20640 non-null  float64\n",
      " 8   ortalama_ev_fiyati     20640 non-null  float64\n",
      " 9   okyanus_yakinlik       20640 non-null  object \n",
      "dtypes: float64(9), object(1)\n",
      "memory usage: 1.6+ MB\n"
     ]
    }
   ],
   "source": [
    "df.info()"
   ]
  },
  {
   "cell_type": "code",
   "execution_count": 9,
   "id": "25ffe1ad",
   "metadata": {},
   "outputs": [
    {
     "data": {
      "text/plain": [
       "boy                        0\n",
       "en                         0\n",
       "konut_yasi                 0\n",
       "toplam_oda_sayi            0\n",
       "toplam_yatak_oda_sayi    207\n",
       "nufus                      0\n",
       "hane_sayisi                0\n",
       "ortalama_gelir             0\n",
       "ortalama_ev_fiyati         0\n",
       "okyanus_yakinlik           0\n",
       "dtype: int64"
      ]
     },
     "execution_count": 9,
     "metadata": {},
     "output_type": "execute_result"
    }
   ],
   "source": [
    "df.isna().sum()"
   ]
  },
  {
   "cell_type": "code",
   "execution_count": 10,
   "id": "940adeac",
   "metadata": {},
   "outputs": [
    {
     "data": {
      "text/html": [
       "<div>\n",
       "<style scoped>\n",
       "    .dataframe tbody tr th:only-of-type {\n",
       "        vertical-align: middle;\n",
       "    }\n",
       "\n",
       "    .dataframe tbody tr th {\n",
       "        vertical-align: top;\n",
       "    }\n",
       "\n",
       "    .dataframe thead th {\n",
       "        text-align: right;\n",
       "    }\n",
       "</style>\n",
       "<table border=\"1\" class=\"dataframe\">\n",
       "  <thead>\n",
       "    <tr style=\"text-align: right;\">\n",
       "      <th></th>\n",
       "      <th>count</th>\n",
       "      <th>mean</th>\n",
       "      <th>std</th>\n",
       "      <th>min</th>\n",
       "      <th>25%</th>\n",
       "      <th>50%</th>\n",
       "      <th>75%</th>\n",
       "      <th>max</th>\n",
       "    </tr>\n",
       "  </thead>\n",
       "  <tbody>\n",
       "    <tr>\n",
       "      <th>boy</th>\n",
       "      <td>20640.0</td>\n",
       "      <td>-119.569704</td>\n",
       "      <td>2.003532</td>\n",
       "      <td>-124.3500</td>\n",
       "      <td>-121.8000</td>\n",
       "      <td>-118.4900</td>\n",
       "      <td>-118.01000</td>\n",
       "      <td>-114.3100</td>\n",
       "    </tr>\n",
       "    <tr>\n",
       "      <th>en</th>\n",
       "      <td>20640.0</td>\n",
       "      <td>35.631861</td>\n",
       "      <td>2.135952</td>\n",
       "      <td>32.5400</td>\n",
       "      <td>33.9300</td>\n",
       "      <td>34.2600</td>\n",
       "      <td>37.71000</td>\n",
       "      <td>41.9500</td>\n",
       "    </tr>\n",
       "    <tr>\n",
       "      <th>konut_yasi</th>\n",
       "      <td>20640.0</td>\n",
       "      <td>28.639486</td>\n",
       "      <td>12.585558</td>\n",
       "      <td>1.0000</td>\n",
       "      <td>18.0000</td>\n",
       "      <td>29.0000</td>\n",
       "      <td>37.00000</td>\n",
       "      <td>52.0000</td>\n",
       "    </tr>\n",
       "    <tr>\n",
       "      <th>toplam_oda_sayi</th>\n",
       "      <td>20640.0</td>\n",
       "      <td>2635.763081</td>\n",
       "      <td>2181.615252</td>\n",
       "      <td>2.0000</td>\n",
       "      <td>1447.7500</td>\n",
       "      <td>2127.0000</td>\n",
       "      <td>3148.00000</td>\n",
       "      <td>39320.0000</td>\n",
       "    </tr>\n",
       "    <tr>\n",
       "      <th>toplam_yatak_oda_sayi</th>\n",
       "      <td>20433.0</td>\n",
       "      <td>537.870553</td>\n",
       "      <td>421.385070</td>\n",
       "      <td>1.0000</td>\n",
       "      <td>296.0000</td>\n",
       "      <td>435.0000</td>\n",
       "      <td>647.00000</td>\n",
       "      <td>6445.0000</td>\n",
       "    </tr>\n",
       "    <tr>\n",
       "      <th>nufus</th>\n",
       "      <td>20640.0</td>\n",
       "      <td>1425.476744</td>\n",
       "      <td>1132.462122</td>\n",
       "      <td>3.0000</td>\n",
       "      <td>787.0000</td>\n",
       "      <td>1166.0000</td>\n",
       "      <td>1725.00000</td>\n",
       "      <td>35682.0000</td>\n",
       "    </tr>\n",
       "    <tr>\n",
       "      <th>hane_sayisi</th>\n",
       "      <td>20640.0</td>\n",
       "      <td>499.539680</td>\n",
       "      <td>382.329753</td>\n",
       "      <td>1.0000</td>\n",
       "      <td>280.0000</td>\n",
       "      <td>409.0000</td>\n",
       "      <td>605.00000</td>\n",
       "      <td>6082.0000</td>\n",
       "    </tr>\n",
       "    <tr>\n",
       "      <th>ortalama_gelir</th>\n",
       "      <td>20640.0</td>\n",
       "      <td>3.870671</td>\n",
       "      <td>1.899822</td>\n",
       "      <td>0.4999</td>\n",
       "      <td>2.5634</td>\n",
       "      <td>3.5348</td>\n",
       "      <td>4.74325</td>\n",
       "      <td>15.0001</td>\n",
       "    </tr>\n",
       "    <tr>\n",
       "      <th>ortalama_ev_fiyati</th>\n",
       "      <td>20640.0</td>\n",
       "      <td>206855.816909</td>\n",
       "      <td>115395.615874</td>\n",
       "      <td>14999.0000</td>\n",
       "      <td>119600.0000</td>\n",
       "      <td>179700.0000</td>\n",
       "      <td>264725.00000</td>\n",
       "      <td>500001.0000</td>\n",
       "    </tr>\n",
       "  </tbody>\n",
       "</table>\n",
       "</div>"
      ],
      "text/plain": [
       "                         count           mean            std         min  \\\n",
       "boy                    20640.0    -119.569704       2.003532   -124.3500   \n",
       "en                     20640.0      35.631861       2.135952     32.5400   \n",
       "konut_yasi             20640.0      28.639486      12.585558      1.0000   \n",
       "toplam_oda_sayi        20640.0    2635.763081    2181.615252      2.0000   \n",
       "toplam_yatak_oda_sayi  20433.0     537.870553     421.385070      1.0000   \n",
       "nufus                  20640.0    1425.476744    1132.462122      3.0000   \n",
       "hane_sayisi            20640.0     499.539680     382.329753      1.0000   \n",
       "ortalama_gelir         20640.0       3.870671       1.899822      0.4999   \n",
       "ortalama_ev_fiyati     20640.0  206855.816909  115395.615874  14999.0000   \n",
       "\n",
       "                               25%          50%           75%          max  \n",
       "boy                      -121.8000    -118.4900    -118.01000    -114.3100  \n",
       "en                         33.9300      34.2600      37.71000      41.9500  \n",
       "konut_yasi                 18.0000      29.0000      37.00000      52.0000  \n",
       "toplam_oda_sayi          1447.7500    2127.0000    3148.00000   39320.0000  \n",
       "toplam_yatak_oda_sayi     296.0000     435.0000     647.00000    6445.0000  \n",
       "nufus                     787.0000    1166.0000    1725.00000   35682.0000  \n",
       "hane_sayisi               280.0000     409.0000     605.00000    6082.0000  \n",
       "ortalama_gelir              2.5634       3.5348       4.74325      15.0001  \n",
       "ortalama_ev_fiyati     119600.0000  179700.0000  264725.00000  500001.0000  "
      ]
     },
     "execution_count": 10,
     "metadata": {},
     "output_type": "execute_result"
    }
   ],
   "source": [
    "df.describe().T"
   ]
  },
  {
   "cell_type": "code",
   "execution_count": 11,
   "id": "cac96631",
   "metadata": {},
   "outputs": [],
   "source": [
    "df[\"toplam_yatak_oda_sayi\"].fillna(df[\"toplam_yatak_oda_sayi\"].mean(), inplace=True)"
   ]
  },
  {
   "cell_type": "code",
   "execution_count": 12,
   "id": "345129b7",
   "metadata": {},
   "outputs": [
    {
     "data": {
      "text/plain": [
       "boy                      0\n",
       "en                       0\n",
       "konut_yasi               0\n",
       "toplam_oda_sayi          0\n",
       "toplam_yatak_oda_sayi    0\n",
       "nufus                    0\n",
       "hane_sayisi              0\n",
       "ortalama_gelir           0\n",
       "ortalama_ev_fiyati       0\n",
       "okyanus_yakinlik         0\n",
       "dtype: int64"
      ]
     },
     "execution_count": 12,
     "metadata": {},
     "output_type": "execute_result"
    }
   ],
   "source": [
    "df.isna().sum()"
   ]
  },
  {
   "cell_type": "code",
   "execution_count": 13,
   "id": "ae52caa0",
   "metadata": {},
   "outputs": [
    {
     "data": {
      "text/plain": [
       "array(['NEAR BAY', '<1H OCEAN', 'INLAND', 'NEAR OCEAN', 'ISLAND'],\n",
       "      dtype=object)"
      ]
     },
     "execution_count": 13,
     "metadata": {},
     "output_type": "execute_result"
    }
   ],
   "source": [
    "df[\"okyanus_yakinlik\"].unique()"
   ]
  },
  {
   "cell_type": "code",
   "execution_count": 14,
   "id": "40a2ca60",
   "metadata": {},
   "outputs": [],
   "source": [
    "# Kategorik değişken label_encoding\n",
    "from sklearn.preprocessing import LabelEncoder\n",
    "\n",
    "label_enc = LabelEncoder()\n",
    "\n",
    "df[\"okyanus_yakinlik\"] = label_enc.fit_transform(df[\"okyanus_yakinlik\"])"
   ]
  },
  {
   "cell_type": "code",
   "execution_count": 15,
   "id": "56f648de",
   "metadata": {},
   "outputs": [
    {
     "data": {
      "text/html": [
       "<div>\n",
       "<style scoped>\n",
       "    .dataframe tbody tr th:only-of-type {\n",
       "        vertical-align: middle;\n",
       "    }\n",
       "\n",
       "    .dataframe tbody tr th {\n",
       "        vertical-align: top;\n",
       "    }\n",
       "\n",
       "    .dataframe thead th {\n",
       "        text-align: right;\n",
       "    }\n",
       "</style>\n",
       "<table border=\"1\" class=\"dataframe\">\n",
       "  <thead>\n",
       "    <tr style=\"text-align: right;\">\n",
       "      <th></th>\n",
       "      <th>boy</th>\n",
       "      <th>en</th>\n",
       "      <th>konut_yasi</th>\n",
       "      <th>toplam_oda_sayi</th>\n",
       "      <th>toplam_yatak_oda_sayi</th>\n",
       "      <th>nufus</th>\n",
       "      <th>hane_sayisi</th>\n",
       "      <th>ortalama_gelir</th>\n",
       "      <th>ortalama_ev_fiyati</th>\n",
       "      <th>okyanus_yakinlik</th>\n",
       "    </tr>\n",
       "  </thead>\n",
       "  <tbody>\n",
       "    <tr>\n",
       "      <th>0</th>\n",
       "      <td>-122.23</td>\n",
       "      <td>37.88</td>\n",
       "      <td>41.0</td>\n",
       "      <td>880.0</td>\n",
       "      <td>129.0</td>\n",
       "      <td>322.0</td>\n",
       "      <td>126.0</td>\n",
       "      <td>8.3252</td>\n",
       "      <td>452600.0</td>\n",
       "      <td>3</td>\n",
       "    </tr>\n",
       "    <tr>\n",
       "      <th>1</th>\n",
       "      <td>-122.22</td>\n",
       "      <td>37.86</td>\n",
       "      <td>21.0</td>\n",
       "      <td>7099.0</td>\n",
       "      <td>1106.0</td>\n",
       "      <td>2401.0</td>\n",
       "      <td>1138.0</td>\n",
       "      <td>8.3014</td>\n",
       "      <td>358500.0</td>\n",
       "      <td>3</td>\n",
       "    </tr>\n",
       "    <tr>\n",
       "      <th>2</th>\n",
       "      <td>-122.24</td>\n",
       "      <td>37.85</td>\n",
       "      <td>52.0</td>\n",
       "      <td>1467.0</td>\n",
       "      <td>190.0</td>\n",
       "      <td>496.0</td>\n",
       "      <td>177.0</td>\n",
       "      <td>7.2574</td>\n",
       "      <td>352100.0</td>\n",
       "      <td>3</td>\n",
       "    </tr>\n",
       "    <tr>\n",
       "      <th>3</th>\n",
       "      <td>-122.25</td>\n",
       "      <td>37.85</td>\n",
       "      <td>52.0</td>\n",
       "      <td>1274.0</td>\n",
       "      <td>235.0</td>\n",
       "      <td>558.0</td>\n",
       "      <td>219.0</td>\n",
       "      <td>5.6431</td>\n",
       "      <td>341300.0</td>\n",
       "      <td>3</td>\n",
       "    </tr>\n",
       "    <tr>\n",
       "      <th>4</th>\n",
       "      <td>-122.25</td>\n",
       "      <td>37.85</td>\n",
       "      <td>52.0</td>\n",
       "      <td>1627.0</td>\n",
       "      <td>280.0</td>\n",
       "      <td>565.0</td>\n",
       "      <td>259.0</td>\n",
       "      <td>3.8462</td>\n",
       "      <td>342200.0</td>\n",
       "      <td>3</td>\n",
       "    </tr>\n",
       "  </tbody>\n",
       "</table>\n",
       "</div>"
      ],
      "text/plain": [
       "      boy     en  konut_yasi  toplam_oda_sayi  toplam_yatak_oda_sayi   nufus  \\\n",
       "0 -122.23  37.88        41.0            880.0                  129.0   322.0   \n",
       "1 -122.22  37.86        21.0           7099.0                 1106.0  2401.0   \n",
       "2 -122.24  37.85        52.0           1467.0                  190.0   496.0   \n",
       "3 -122.25  37.85        52.0           1274.0                  235.0   558.0   \n",
       "4 -122.25  37.85        52.0           1627.0                  280.0   565.0   \n",
       "\n",
       "   hane_sayisi  ortalama_gelir  ortalama_ev_fiyati  okyanus_yakinlik  \n",
       "0        126.0          8.3252            452600.0                 3  \n",
       "1       1138.0          8.3014            358500.0                 3  \n",
       "2        177.0          7.2574            352100.0                 3  \n",
       "3        219.0          5.6431            341300.0                 3  \n",
       "4        259.0          3.8462            342200.0                 3  "
      ]
     },
     "execution_count": 15,
     "metadata": {},
     "output_type": "execute_result"
    }
   ],
   "source": [
    "df.head(5)"
   ]
  },
  {
   "cell_type": "code",
   "execution_count": 16,
   "id": "e7a2717b",
   "metadata": {},
   "outputs": [
    {
     "data": {
      "text/plain": [
       "0    3\n",
       "1    3\n",
       "2    3\n",
       "3    3\n",
       "4    3\n",
       "Name: okyanus_yakinlik, dtype: int32"
      ]
     },
     "execution_count": 16,
     "metadata": {},
     "output_type": "execute_result"
    }
   ],
   "source": [
    "df[\"okyanus_yakinlik\"].head(5)"
   ]
  },
  {
   "cell_type": "code",
   "execution_count": 17,
   "id": "f985e200",
   "metadata": {},
   "outputs": [],
   "source": [
    "num_df_for_corr = df.drop([\"okyanus_yakinlik\"],axis=1)\n",
    "corr = num_df_for_corr.corr()"
   ]
  },
  {
   "cell_type": "code",
   "execution_count": 18,
   "id": "68371ff6",
   "metadata": {},
   "outputs": [
    {
     "data": {
      "text/plain": [
       "<Axes: >"
      ]
     },
     "execution_count": 18,
     "metadata": {},
     "output_type": "execute_result"
    },
    {
     "data": {
      "image/png": "[encoded data removed]",
      "text/plain": [
       "<Figure size 640x480 with 2 Axes>"
      ]
     },
     "metadata": {},
     "output_type": "display_data"
    }
   ],
   "source": [
    "sns.heatmap(corr, annot = True,\n",
    "            xticklabels=corr.columns.values,\n",
    "            yticklabels=corr.columns.values,\n",
    "            cmap = \"Greens\")"
   ]
  },
  {
   "cell_type": "code",
   "execution_count": 19,
   "id": "783877e8",
   "metadata": {},
   "outputs": [],
   "source": [
    "# x-y ayrım\n",
    "x = df.drop([\"ortalama_ev_fiyati\"], axis=1)\n",
    "y = df.iloc[:,-2]"
   ]
  },
  {
   "cell_type": "code",
   "execution_count": 20,
   "id": "76159302",
   "metadata": {},
   "outputs": [
    {
     "data": {
      "text/html": [
       "<div>\n",
       "<style scoped>\n",
       "    .dataframe tbody tr th:only-of-type {\n",
       "        vertical-align: middle;\n",
       "    }\n",
       "\n",
       "    .dataframe tbody tr th {\n",
       "        vertical-align: top;\n",
       "    }\n",
       "\n",
       "    .dataframe thead th {\n",
       "        text-align: right;\n",
       "    }\n",
       "</style>\n",
       "<table border=\"1\" class=\"dataframe\">\n",
       "  <thead>\n",
       "    <tr style=\"text-align: right;\">\n",
       "      <th></th>\n",
       "      <th>boy</th>\n",
       "      <th>en</th>\n",
       "      <th>konut_yasi</th>\n",
       "      <th>toplam_oda_sayi</th>\n",
       "      <th>toplam_yatak_oda_sayi</th>\n",
       "      <th>nufus</th>\n",
       "      <th>hane_sayisi</th>\n",
       "      <th>ortalama_gelir</th>\n",
       "      <th>okyanus_yakinlik</th>\n",
       "    </tr>\n",
       "  </thead>\n",
       "  <tbody>\n",
       "    <tr>\n",
       "      <th>0</th>\n",
       "      <td>-122.23</td>\n",
       "      <td>37.88</td>\n",
       "      <td>41.0</td>\n",
       "      <td>880.0</td>\n",
       "      <td>129.0</td>\n",
       "      <td>322.0</td>\n",
       "      <td>126.0</td>\n",
       "      <td>8.3252</td>\n",
       "      <td>3</td>\n",
       "    </tr>\n",
       "    <tr>\n",
       "      <th>1</th>\n",
       "      <td>-122.22</td>\n",
       "      <td>37.86</td>\n",
       "      <td>21.0</td>\n",
       "      <td>7099.0</td>\n",
       "      <td>1106.0</td>\n",
       "      <td>2401.0</td>\n",
       "      <td>1138.0</td>\n",
       "      <td>8.3014</td>\n",
       "      <td>3</td>\n",
       "    </tr>\n",
       "    <tr>\n",
       "      <th>2</th>\n",
       "      <td>-122.24</td>\n",
       "      <td>37.85</td>\n",
       "      <td>52.0</td>\n",
       "      <td>1467.0</td>\n",
       "      <td>190.0</td>\n",
       "      <td>496.0</td>\n",
       "      <td>177.0</td>\n",
       "      <td>7.2574</td>\n",
       "      <td>3</td>\n",
       "    </tr>\n",
       "    <tr>\n",
       "      <th>3</th>\n",
       "      <td>-122.25</td>\n",
       "      <td>37.85</td>\n",
       "      <td>52.0</td>\n",
       "      <td>1274.0</td>\n",
       "      <td>235.0</td>\n",
       "      <td>558.0</td>\n",
       "      <td>219.0</td>\n",
       "      <td>5.6431</td>\n",
       "      <td>3</td>\n",
       "    </tr>\n",
       "    <tr>\n",
       "      <th>4</th>\n",
       "      <td>-122.25</td>\n",
       "      <td>37.85</td>\n",
       "      <td>52.0</td>\n",
       "      <td>1627.0</td>\n",
       "      <td>280.0</td>\n",
       "      <td>565.0</td>\n",
       "      <td>259.0</td>\n",
       "      <td>3.8462</td>\n",
       "      <td>3</td>\n",
       "    </tr>\n",
       "    <tr>\n",
       "      <th>...</th>\n",
       "      <td>...</td>\n",
       "      <td>...</td>\n",
       "      <td>...</td>\n",
       "      <td>...</td>\n",
       "      <td>...</td>\n",
       "      <td>...</td>\n",
       "      <td>...</td>\n",
       "      <td>...</td>\n",
       "      <td>...</td>\n",
       "    </tr>\n",
       "    <tr>\n",
       "      <th>20635</th>\n",
       "      <td>-121.09</td>\n",
       "      <td>39.48</td>\n",
       "      <td>25.0</td>\n",
       "      <td>1665.0</td>\n",
       "      <td>374.0</td>\n",
       "      <td>845.0</td>\n",
       "      <td>330.0</td>\n",
       "      <td>1.5603</td>\n",
       "      <td>1</td>\n",
       "    </tr>\n",
       "    <tr>\n",
       "      <th>20636</th>\n",
       "      <td>-121.21</td>\n",
       "      <td>39.49</td>\n",
       "      <td>18.0</td>\n",
       "      <td>697.0</td>\n",
       "      <td>150.0</td>\n",
       "      <td>356.0</td>\n",
       "      <td>114.0</td>\n",
       "      <td>2.5568</td>\n",
       "      <td>1</td>\n",
       "    </tr>\n",
       "    <tr>\n",
       "      <th>20637</th>\n",
       "      <td>-121.22</td>\n",
       "      <td>39.43</td>\n",
       "      <td>17.0</td>\n",
       "      <td>2254.0</td>\n",
       "      <td>485.0</td>\n",
       "      <td>1007.0</td>\n",
       "      <td>433.0</td>\n",
       "      <td>1.7000</td>\n",
       "      <td>1</td>\n",
       "    </tr>\n",
       "    <tr>\n",
       "      <th>20638</th>\n",
       "      <td>-121.32</td>\n",
       "      <td>39.43</td>\n",
       "      <td>18.0</td>\n",
       "      <td>1860.0</td>\n",
       "      <td>409.0</td>\n",
       "      <td>741.0</td>\n",
       "      <td>349.0</td>\n",
       "      <td>1.8672</td>\n",
       "      <td>1</td>\n",
       "    </tr>\n",
       "    <tr>\n",
       "      <th>20639</th>\n",
       "      <td>-121.24</td>\n",
       "      <td>39.37</td>\n",
       "      <td>16.0</td>\n",
       "      <td>2785.0</td>\n",
       "      <td>616.0</td>\n",
       "      <td>1387.0</td>\n",
       "      <td>530.0</td>\n",
       "      <td>2.3886</td>\n",
       "      <td>1</td>\n",
       "    </tr>\n",
       "  </tbody>\n",
       "</table>\n",
       "<p>20640 rows × 9 columns</p>\n",
       "</div>"
      ],
      "text/plain": [
       "          boy     en  konut_yasi  toplam_oda_sayi  toplam_yatak_oda_sayi  \\\n",
       "0     -122.23  37.88        41.0            880.0                  129.0   \n",
       "1     -122.22  37.86        21.0           7099.0                 1106.0   \n",
       "2     -122.24  37.85        52.0           1467.0                  190.0   \n",
       "3     -122.25  37.85        52.0           1274.0                  235.0   \n",
       "4     -122.25  37.85        52.0           1627.0                  280.0   \n",
       "...       ...    ...         ...              ...                    ...   \n",
       "20635 -121.09  39.48        25.0           1665.0                  374.0   \n",
       "20636 -121.21  39.49        18.0            697.0                  150.0   \n",
       "20637 -121.22  39.43        17.0           2254.0                  485.0   \n",
       "20638 -121.32  39.43        18.0           1860.0                  409.0   \n",
       "20639 -121.24  39.37        16.0           2785.0                  616.0   \n",
       "\n",
       "        nufus  hane_sayisi  ortalama_gelir  okyanus_yakinlik  \n",
       "0       322.0        126.0          8.3252                 3  \n",
       "1      2401.0       1138.0          8.3014                 3  \n",
       "2       496.0        177.0          7.2574                 3  \n",
       "3       558.0        219.0          5.6431                 3  \n",
       "4       565.0        259.0          3.8462                 3  \n",
       "...       ...          ...             ...               ...  \n",
       "20635   845.0        330.0          1.5603                 1  \n",
       "20636   356.0        114.0          2.5568                 1  \n",
       "20637  1007.0        433.0          1.7000                 1  \n",
       "20638   741.0        349.0          1.8672                 1  \n",
       "20639  1387.0        530.0          2.3886                 1  \n",
       "\n",
       "[20640 rows x 9 columns]"
      ]
     },
     "execution_count": 20,
     "metadata": {},
     "output_type": "execute_result"
    }
   ],
   "source": [
    "x"
   ]
  },
  {
   "cell_type": "code",
   "execution_count": 21,
   "id": "f8955398",
   "metadata": {},
   "outputs": [
    {
     "data": {
      "text/plain": [
       "0        452600.0\n",
       "1        358500.0\n",
       "2        352100.0\n",
       "3        341300.0\n",
       "4        342200.0\n",
       "           ...   \n",
       "20635     78100.0\n",
       "20636     77100.0\n",
       "20637     92300.0\n",
       "20638     84700.0\n",
       "20639     89400.0\n",
       "Name: ortalama_ev_fiyati, Length: 20640, dtype: float64"
      ]
     },
     "execution_count": 21,
     "metadata": {},
     "output_type": "execute_result"
    }
   ],
   "source": [
    "y"
   ]
  },
  {
   "cell_type": "code",
   "execution_count": 22,
   "id": "fed3d0ec",
   "metadata": {},
   "outputs": [],
   "source": [
    "# Train Test Split\n",
    "from sklearn.model_selection import train_test_split\n",
    "\n",
    "x_train, x_test, y_train, y_test = train_test_split(x ,y, test_size = 0.20, random_state = 42)"
   ]
  },
  {
   "cell_type": "code",
   "execution_count": 23,
   "id": "62e2e812",
   "metadata": {},
   "outputs": [],
   "source": [
    "# Birimsizleştirme (Standard Scaling)\n",
    "from sklearn.preprocessing import StandardScaler\n",
    "\n",
    "standard_s = StandardScaler()\n",
    "x_train = standard_s.fit_transform(x_train)\n",
    "x_test = standard_s.fit_transform(x_test)"
   ]
  },
  {
   "cell_type": "markdown",
   "id": "49cb0021",
   "metadata": {},
   "source": [
    "### Linear Regression"
   ]
  },
  {
   "cell_type": "code",
   "execution_count": 24,
   "id": "a610dddb",
   "metadata": {},
   "outputs": [],
   "source": [
    "from sklearn.linear_model import LinearRegression\n",
    "from sklearn.ensemble import RandomForestRegressor\n",
    "from sklearn.metrics import r2_score\n",
    "from sklearn.metrics import mean_absolute_error\n",
    "from sklearn.metrics import mean_squared_error"
   ]
  },
  {
   "cell_type": "code",
   "execution_count": 25,
   "id": "ceee3b50",
   "metadata": {},
   "outputs": [
    {
     "data": {
      "text/plain": [
       "array([ 76539.21532946, 167850.36142074, 267359.26802988, ...,\n",
       "       444985.99454011, 132282.97593662, 177053.55974543])"
      ]
     },
     "execution_count": 25,
     "metadata": {},
     "output_type": "execute_result"
    }
   ],
   "source": [
    "lr = LinearRegression()\n",
    "lr.fit(x_train,y_train)\n",
    "predictions_lr = lr.predict(x_test)\n",
    "predictions_lr"
   ]
  },
  {
   "cell_type": "code",
   "execution_count": 26,
   "id": "da39e4ac",
   "metadata": {},
   "outputs": [
    {
     "name": "stdout",
     "output_type": "stream",
     "text": [
      "RMSE: 71168.60848331274\n",
      "R-square: 0.6134816749920091\n"
     ]
    }
   ],
   "source": [
    "rmse = np.sqrt(mean_squared_error(y_test, predictions_lr))\n",
    "r2 = r2_score(y_test, predictions_lr)\n",
    "\n",
    "print('RMSE:', rmse)\n",
    "print('R-square:', r2)"
   ]
  },
  {
   "cell_type": "markdown",
   "id": "f9660e4b",
   "metadata": {},
   "source": [
    "### Random Forest"
   ]
  },
  {
   "cell_type": "code",
   "execution_count": 27,
   "id": "7cead8e7",
   "metadata": {},
   "outputs": [
    {
     "data": {
      "text/plain": [
       "array([ 52371.  ,  72076.  , 359255.09, ..., 500001.  ,  87896.  ,\n",
       "       154426.  ])"
      ]
     },
     "execution_count": 27,
     "metadata": {},
     "output_type": "execute_result"
    }
   ],
   "source": [
    "rf = RandomForestRegressor(n_estimators= 100)\n",
    "rf.fit(x_train, y_train)\n",
    "predictions_rf = rf.predict(x_test)\n",
    "predictions_rf"
   ]
  },
  {
   "cell_type": "code",
   "execution_count": 28,
   "id": "24032c30",
   "metadata": {},
   "outputs": [
    {
     "name": "stdout",
     "output_type": "stream",
     "text": [
      "RMSE: 62504.81580104898\n",
      "R-square: 0.7018601014495763\n"
     ]
    }
   ],
   "source": [
    "rmse = np.sqrt(mean_squared_error(y_test, predictions_rf))\n",
    "r2 = r2_score(y_test, predictions_rf)\n",
    "\n",
    "print('RMSE:', rmse)\n",
    "print('R-square:', r2)"
   ]
  }
 ],
 "metadata": {
  "kernelspec": {
   "display_name": "Python 3 (ipykernel)",
   "language": "python",
   "name": "python3"
  },
  "language_info": {
   "codemirror_mode": {
    "name": "ipython",
    "version": 3
   },
   "file_extension": ".py",
   "mimetype": "text/x-python",
   "name": "python",
   "nbconvert_exporter": "python",
   "pygments_lexer": "ipython3",
   "version": "3.10.13"
  }
 },
 "nbformat": 4,
 "nbformat_minor": 5
}
